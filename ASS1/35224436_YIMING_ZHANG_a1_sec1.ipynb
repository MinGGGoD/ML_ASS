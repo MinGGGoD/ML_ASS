{
 "cells": [
  {
   "cell_type": "markdown",
   "id": "58d82c02",
   "metadata": {},
   "source": [
    "# 1 Model Complexity and Model Selection\n",
    "Student ID: 35224436 | Full name: Yiming Zhang"
   ]
  },
  {
   "cell_type": "markdown",
   "id": "4d605122",
   "metadata": {},
   "source": [
    "## 1 Question 1 KNN Regressor"
   ]
  },
  {
   "cell_type": "markdown",
   "id": "28ef49af",
   "metadata": {},
   "source": [
    "import packages"
   ]
  },
  {
   "cell_type": "code",
   "execution_count": 1,
   "id": "9e32212e",
   "metadata": {},
   "outputs": [],
   "source": [
    "from scipy.spatial import KDTree\n",
    "from sklearn.base import BaseEstimator\n",
    "from sklearn.datasets import load_diabetes\n",
    "from sklearn.model_selection import train_test_split\n",
    "import numpy as np"
   ]
  },
  {
   "cell_type": "markdown",
   "id": "eea44f0b",
   "metadata": {},
   "source": [
    "### Task I. KNN Regressor Implementation"
   ]
  },
  {
   "cell_type": "code",
   "execution_count": 2,
   "id": "22fd1a72",
   "metadata": {},
   "outputs": [],
   "source": [
    "class KnnRegressor(BaseEstimator):\n",
    "    def __init__(self, k=5):\n",
    "        self.k = k\n",
    "\n",
    "    def fit(self, X, y):\n",
    "        self.y_train_ = np.array(y)\n",
    "        self.x_train_kdtree_ = KDTree(X)\n",
    "        return self\n",
    "\n",
    "    def predict(self, X):\n",
    "        # Find k nearest neighbors\n",
    "        _, neighbours = self.x_train_kdtree_.query(X, k=self.k)\n",
    "        neighbours = neighbours.reshape(len(X), self.k)\n",
    "\n",
    "        # Get neighbor labels (regression targets here)\n",
    "        neighbour_values = self.y_train_[neighbours]\n",
    "\n",
    "        # Compute mean\n",
    "        y_pred = neighbour_values.mean(axis=1)\n",
    "\n",
    "        return y_pred\n"
   ]
  },
  {
   "cell_type": "markdown",
   "id": "312c9e89",
   "metadata": {},
   "source": [
    "### Task II. Test implementation\n"
   ]
  },
  {
   "cell_type": "markdown",
   "id": "924cd816",
   "metadata": {},
   "source": [
    "#### Load dataset"
   ]
  },
  {
   "cell_type": "code",
   "execution_count": 3,
   "id": "b648e129",
   "metadata": {},
   "outputs": [
    {
     "data": {
      "text/plain": [
       "((442, 10), (442,))"
      ]
     },
     "execution_count": 3,
     "metadata": {},
     "output_type": "execute_result"
    }
   ],
   "source": [
    "# Load dataset\n",
    "diabetes = load_diabetes()\n",
    "X = diabetes.data\n",
    "y = diabetes.target\n",
    "X.shape, y.shape"
   ]
  },
  {
   "cell_type": "markdown",
   "id": "e6711087",
   "metadata": {},
   "source": [
    "#### Split dataset"
   ]
  },
  {
   "cell_type": "code",
   "execution_count": 4,
   "id": "287128e2",
   "metadata": {},
   "outputs": [
    {
     "data": {
      "text/plain": [
       "((309, 10), (133, 10), (309,), (133,))"
      ]
     },
     "execution_count": 4,
     "metadata": {},
     "output_type": "execute_result"
    }
   ],
   "source": [
    "# Split dataset into training and testing sets\n",
    "X_train, X_test, y_train, y_test = train_test_split(\n",
    "    X, y, train_size=0.7, random_state=18\n",
    ")\n",
    "X_train.shape, X_test.shape, y_train.shape, y_test.shape"
   ]
  },
  {
   "cell_type": "markdown",
   "id": "3dc4ad51",
   "metadata": {},
   "source": [
    "#### Guess a K\n",
    "According to the empirical rule, $\\sqrt{trainingSetSize}\\,$ is often close to the optimal value of K. Therefore, I estimate that K = $\\sqrt{309} \\approx$ 18 is an acceptable choice for K."
   ]
  },
  {
   "cell_type": "markdown",
   "id": "3ecc73fe",
   "metadata": {},
   "source": [
    "#### Test"
   ]
  },
  {
   "cell_type": "code",
   "execution_count": 5,
   "id": "c54fa6a8",
   "metadata": {},
   "outputs": [
    {
     "data": {
      "text/plain": [
       "((309,), (133,))"
      ]
     },
     "execution_count": 5,
     "metadata": {},
     "output_type": "execute_result"
    }
   ],
   "source": [
    "# Test KNN Regressor\n",
    "knn = KnnRegressor(k=18)\n",
    "knn.fit(X_train, y_train)\n",
    "y_hat_train = knn.predict(X_train)\n",
    "y_hat_test = knn.predict(X_test)\n",
    "y_hat_train.shape, y_hat_test.shape"
   ]
  },
  {
   "cell_type": "markdown",
   "id": "dab4086f",
   "metadata": {},
   "source": [
    "#### Evaulation\n",
    "Use the sum of the squares of the errors as the error function to measure training errors and testing errors."
   ]
  },
  {
   "cell_type": "code",
   "execution_count": 6,
   "id": "b0928f05",
   "metadata": {},
   "outputs": [],
   "source": [
    "# calculate the sum of squared errors\n",
    "def sse(y_true, y_pred):\n",
    "    return np.sum((y_true - y_pred) ** 2)"
   ]
  },
  {
   "cell_type": "markdown",
   "id": "9de989f6",
   "metadata": {},
   "source": [
    "#### Compute error"
   ]
  },
  {
   "cell_type": "code",
   "execution_count": 7,
   "id": "cd8b7c95",
   "metadata": {},
   "outputs": [
    {
     "name": "stdout",
     "output_type": "stream",
     "text": [
      "When K = 18 \n",
      "The training error is 873984.8395061729 \n",
      "The testing error is 468777.64197530865\n"
     ]
    }
   ],
   "source": [
    "sse_train = sse(y_train, y_hat_train)\n",
    "sse_test = sse(y_test, y_hat_test)\n",
    "sse_train, sse_test\n",
    "print(\n",
    "    f\"When K = 18 \\nThe training error is {sse_train} \\nThe testing error is {sse_test}\"\n",
    ")"
   ]
  },
  {
   "cell_type": "markdown",
   "id": "44a7a35b",
   "metadata": {},
   "source": [
    "#### Further test to find optimal K\n",
    "Test and find the optimal K (1~30)"
   ]
  },
  {
   "cell_type": "code",
   "execution_count": 8,
   "id": "257c815a",
   "metadata": {},
   "outputs": [
    {
     "name": "stdout",
     "output_type": "stream",
     "text": [
      "The minimum testing error is 450863.84171597636 when K = 26\n",
      "Hence, the optimal K is 26\n"
     ]
    }
   ],
   "source": [
    "def choose_k(X_train, y_train, X_test, y_test, max_k):\n",
    "    \"\"\"\n",
    "    Choose the best K for KNN Regressor\n",
    "    max_k: the maximum K to test\n",
    "    \"\"\"\n",
    "    sse_train = []\n",
    "    sse_test = []\n",
    "    for k in range(1, max_k + 1):\n",
    "        knn = KnnRegressor(k=k)\n",
    "        knn.fit(X_train, y_train)\n",
    "        y_hat_train = knn.predict(X_train)\n",
    "        y_hat_test = knn.predict(X_test)\n",
    "        sse_train.append(sse(y_train, y_hat_train))\n",
    "        sse_test.append(sse(y_test, y_hat_test))\n",
    "    return sse_train, sse_test\n",
    "\n",
    "\n",
    "sse_train, sse_test = choose_k(X_train, y_train, X_test, y_test, 30)\n",
    "\n",
    "# find the minimum sse_test and the corresponding k\n",
    "min_sse_test = min(sse_test)\n",
    "best_k = sse_test.index(min_sse_test) + 1\n",
    "print(f\"The minimum testing error is {min_sse_test} when K = {best_k}\")\n",
    "print(f\"Hence, the optimal K is {best_k}\")"
   ]
  },
  {
   "cell_type": "markdown",
   "id": "3508f03e",
   "metadata": {},
   "source": [
    "## 2 Question 2 L-fold Cross Validation"
   ]
  },
  {
   "cell_type": "markdown",
   "id": "1c453cf5",
   "metadata": {},
   "source": [
    "### Task I. L-fold Implementation"
   ]
  },
  {
   "cell_type": "code",
   "execution_count": 9,
   "id": "dc9711b4",
   "metadata": {},
   "outputs": [],
   "source": [
    "class LFold:\n",
    "    def __init__(self, L=5, random_state=None, shuffle=False):\n",
    "        self.L = L\n",
    "        self.random_state = random_state\n",
    "        self.shuffle = shuffle\n",
    "\n",
    "    def get_n_splits(self):\n",
    "        return self.L\n",
    "\n",
    "    def split(self, x, y=None, groups=None):\n",
    "        n_samples = len(x)\n",
    "        indices = np.arange(n_samples)  # indexes of samples\n",
    "\n",
    "        if self.shuffle:\n",
    "            rng = np.random.RandomState(self.random_state)\n",
    "            rng.shuffle(indices)\n",
    "\n",
    "        # calculate the size of each fold\n",
    "        fold_size = np.full(self.L, n_samples // self.L, dtype=int)\n",
    "        fold_size[: n_samples % self.L] += 1\n",
    "\n",
    "        current = 0\n",
    "        for f_size in fold_size:\n",
    "            start, end = current, current + f_size\n",
    "            test_idx = indices[start:end]\n",
    "            train_idx = np.concatenate([indices[:start], indices[end:]])\n",
    "            yield train_idx, test_idx\n",
    "            current = end"
   ]
  },
  {
   "cell_type": "markdown",
   "id": "af960222",
   "metadata": {},
   "source": [
    "#### Test the implementation"
   ]
  },
  {
   "cell_type": "code",
   "execution_count": 10,
   "id": "03479e84",
   "metadata": {},
   "outputs": [
    {
     "name": "stdout",
     "output_type": "stream",
     "text": [
      "[ 4  5  6  7  8  9 10 11 12 13 14 15 16 17 18 19] [0 1 2 3]\n",
      "[ 0  1  2  3  8  9 10 11 12 13 14 15 16 17 18 19] [4 5 6 7]\n",
      "[ 0  1  2  3  4  5  6  7 12 13 14 15 16 17 18 19] [ 8  9 10 11]\n",
      "[ 0  1  2  3  4  5  6  7  8  9 10 11 16 17 18 19] [12 13 14 15]\n",
      "[ 0  1  2  3  4  5  6  7  8  9 10 11 12 13 14 15] [16 17 18 19]\n"
     ]
    }
   ],
   "source": [
    "for idx_train, idx_test in LFold(L = 5).split(list(range(20))):\n",
    "    print(idx_train, idx_test)"
   ]
  },
  {
   "cell_type": "markdown",
   "id": "5a640ff9",
   "metadata": {},
   "source": [
    "### Task II. Test the effect of the $k$\n",
    "Test $k$ values from 1 to 60, calculate and compare the mean and standard deviation of MSE for both training and test sets, and evaluate which $k$ value is optimal."
   ]
  },
  {
   "cell_type": "markdown",
   "id": "97c99647",
   "metadata": {},
   "source": [
    "#### Construct test\n",
    "Among the 442 samples, a 7:3 split results in 309 training samples. Given the moderate sample size, we use 10-fold cross-validation, so that each training uses about 278 samples and validates on 31 samples. Compared to 5-fold, 10-fold cross-validation provides a more stable estimate of generalization error while keeping the computational cost acceptable."
   ]
  },
  {
   "cell_type": "code",
   "execution_count": 11,
   "id": "ef3cdbc7",
   "metadata": {},
   "outputs": [],
   "source": [
    "import pandas as pd\n",
    "\n",
    "def mse(y_true, y_pred):\n",
    "    \"\"\"Calculate the mean squared error.\"\"\"\n",
    "    return np.mean((y_true - y_pred) ** 2)\n",
    "\n",
    "def cross_validate_knn_lfold(\n",
    "    X,\n",
    "    y,\n",
    "    max_k,\n",
    "    L=10,\n",
    "    random_state=18,\n",
    "    shuffle=False,\n",
    "):\n",
    "    # initalize the result lists\n",
    "    train_mse_means = []\n",
    "    train_mse_stds = []\n",
    "    valid_mse_means = []\n",
    "    valid_mse_stds = []\n",
    "\n",
    "    # cross validation for each k\n",
    "    for k in range(1, max_k + 1):\n",
    "        train_mses = []\n",
    "        valid_mses = []\n",
    "\n",
    "        lfold = LFold(L, shuffle=shuffle, random_state=random_state)\n",
    "        fold_splits = lfold.split(X)\n",
    "        # iterate over each fold\n",
    "        for train_idx, valid_idx in fold_splits:\n",
    "            # split data\n",
    "            X_tr, y_tr = X[train_idx], y[train_idx]\n",
    "            X_val, y_val = X[valid_idx], y[valid_idx]\n",
    "\n",
    "            # train KNN model\n",
    "            knn = KnnRegressor(k=k)\n",
    "            knn.fit(X_tr, y_tr)\n",
    "\n",
    "            # calculate the training set MSE\n",
    "            y_tr_pred = knn.predict(X_tr)\n",
    "            train_mse = mse(y_tr, y_tr_pred)\n",
    "            train_mses.append(train_mse)\n",
    "\n",
    "            # calculate the validation set MSE\n",
    "            y_val_pred = knn.predict(X_val)\n",
    "            valid_mse = mse(y_val, y_val_pred)\n",
    "            valid_mses.append(valid_mse)\n",
    "\n",
    "        # calculate the mean and standard deviation\n",
    "        train_mse_mean = np.mean(train_mses)\n",
    "        train_mse_std = np.std(train_mses)\n",
    "        valid_mse_mean = np.mean(valid_mses)\n",
    "        valid_mse_std = np.std(valid_mses)\n",
    "\n",
    "        train_mse_means.append(train_mse_mean)\n",
    "        train_mse_stds.append(train_mse_std)\n",
    "        valid_mse_means.append(valid_mse_mean)\n",
    "        valid_mse_stds.append(valid_mse_std)\n",
    "\n",
    "    return pd.DataFrame(\n",
    "        {\n",
    "            \"k_values\": list(range(1, max_k + 1)),\n",
    "            \"train_mse_means\": train_mse_means,\n",
    "            \"train_mse_stds\": train_mse_stds,\n",
    "            \"valid_mse_means\": valid_mse_means,\n",
    "            \"valid_mse_stds\": valid_mse_stds,\n",
    "        }\n",
    "    )"
   ]
  },
  {
   "cell_type": "markdown",
   "id": "0d02455c",
   "metadata": {},
   "source": [
    "#### Run test\n",
    "Execute cross_validate_knn_lfold function"
   ]
  },
  {
   "cell_type": "code",
   "execution_count": 12,
   "id": "68016a0b",
   "metadata": {},
   "outputs": [
    {
     "data": {
      "text/html": [
       "<div>\n",
       "<style scoped>\n",
       "    .dataframe tbody tr th:only-of-type {\n",
       "        vertical-align: middle;\n",
       "    }\n",
       "\n",
       "    .dataframe tbody tr th {\n",
       "        vertical-align: top;\n",
       "    }\n",
       "\n",
       "    .dataframe thead th {\n",
       "        text-align: right;\n",
       "    }\n",
       "</style>\n",
       "<table border=\"1\" class=\"dataframe\">\n",
       "  <thead>\n",
       "    <tr style=\"text-align: right;\">\n",
       "      <th></th>\n",
       "      <th>k_values</th>\n",
       "      <th>train_mse_means</th>\n",
       "      <th>train_mse_stds</th>\n",
       "      <th>valid_mse_means</th>\n",
       "      <th>valid_mse_stds</th>\n",
       "    </tr>\n",
       "  </thead>\n",
       "  <tbody>\n",
       "    <tr>\n",
       "      <th>0</th>\n",
       "      <td>1</td>\n",
       "      <td>0.000000</td>\n",
       "      <td>0.000000</td>\n",
       "      <td>5446.774745</td>\n",
       "      <td>851.363011</td>\n",
       "    </tr>\n",
       "    <tr>\n",
       "      <th>1</th>\n",
       "      <td>2</td>\n",
       "      <td>1529.635023</td>\n",
       "      <td>66.820172</td>\n",
       "      <td>4225.125843</td>\n",
       "      <td>496.874615</td>\n",
       "    </tr>\n",
       "    <tr>\n",
       "      <th>2</th>\n",
       "      <td>3</td>\n",
       "      <td>2022.684618</td>\n",
       "      <td>63.614753</td>\n",
       "      <td>4033.731069</td>\n",
       "      <td>446.768688</td>\n",
       "    </tr>\n",
       "    <tr>\n",
       "      <th>3</th>\n",
       "      <td>4</td>\n",
       "      <td>2257.827505</td>\n",
       "      <td>90.719343</td>\n",
       "      <td>3667.087510</td>\n",
       "      <td>211.074126</td>\n",
       "    </tr>\n",
       "    <tr>\n",
       "      <th>4</th>\n",
       "      <td>5</td>\n",
       "      <td>2439.041247</td>\n",
       "      <td>25.943655</td>\n",
       "      <td>3620.916153</td>\n",
       "      <td>286.613920</td>\n",
       "    </tr>\n",
       "  </tbody>\n",
       "</table>\n",
       "</div>"
      ],
      "text/plain": [
       "   k_values  train_mse_means  train_mse_stds  valid_mse_means  valid_mse_stds\n",
       "0         1         0.000000        0.000000      5446.774745      851.363011\n",
       "1         2      1529.635023       66.820172      4225.125843      496.874615\n",
       "2         3      2022.684618       63.614753      4033.731069      446.768688\n",
       "3         4      2257.827505       90.719343      3667.087510      211.074126\n",
       "4         5      2439.041247       25.943655      3620.916153      286.613920"
      ]
     },
     "execution_count": 12,
     "metadata": {},
     "output_type": "execute_result"
    }
   ],
   "source": [
    "L = 5\n",
    "max_k = 60\n",
    "\n",
    "results = cross_validate_knn_lfold(\n",
    "    X,\n",
    "    y,\n",
    "    max_k=max_k,\n",
    "    L=L,\n",
    "    random_state=18,\n",
    "    shuffle=False,\n",
    ")\n",
    "results.head()"
   ]
  },
  {
   "cell_type": "markdown",
   "id": "72024154",
   "metadata": {},
   "source": [
    "#### Find optimal $k$\n",
    "The k with the smallest valid_mse_means is the optimal k"
   ]
  },
  {
   "cell_type": "code",
   "execution_count": 13,
   "id": "92818c75",
   "metadata": {},
   "outputs": [
    {
     "name": "stdout",
     "output_type": "stream",
     "text": [
      "The optimal K is: 19, the corresponding validation set MSE mean is: 3172.3750\n"
     ]
    }
   ],
   "source": [
    "best_k_idx = results[\"valid_mse_means\"].argmin()\n",
    "best_k = results[\"k_values\"][best_k_idx]\n",
    "print(f\"The optimal K is: {best_k}, the corresponding validation set MSE mean is: \"\n",
    "      f\"{results['valid_mse_means'][best_k_idx]:.4f}\")"
   ]
  },
  {
   "cell_type": "markdown",
   "id": "df81f4c3",
   "metadata": {},
   "source": [
    "### Task III. Analyse the effect of $k$ and $L$\n",
    "In this section, I will first test L = 5 and 10 for $k$(1~60) and store the results.\n",
    "\n",
    "Then, compute the confidence intervals for each result using the following rule:\n",
    "\n",
    "$$m \\pm 1.96 {s}{\\sqrt{L}}$$\n",
    "\n",
    "Then, I will draw two plots for comparison.\n"
   ]
  },
  {
   "cell_type": "markdown",
   "id": "fc3db47f",
   "metadata": {},
   "source": [
    "#### Generate results for $L$ = 5 and 10"
   ]
  },
  {
   "cell_type": "code",
   "execution_count": 14,
   "id": "3df10754",
   "metadata": {},
   "outputs": [],
   "source": [
    "L1 = 5\n",
    "L2 = 10\n",
    "max_k = 60\n",
    "\n",
    "results_l5 = cross_validate_knn_lfold(\n",
    "    X,\n",
    "    y,\n",
    "    max_k=max_k,\n",
    "    L=L,\n",
    "    random_state=18,\n",
    "    shuffle=True,\n",
    ")\n",
    "results_l10 = cross_validate_knn_lfold(\n",
    "    X,\n",
    "    y,\n",
    "    max_k=max_k,\n",
    "    L=L,\n",
    "    random_state=18,\n",
    "    shuffle=True,\n",
    ")\n"
   ]
  },
  {
   "cell_type": "markdown",
   "id": "9647dd7a",
   "metadata": {},
   "source": [
    "#### Compute confidence intervals"
   ]
  },
  {
   "cell_type": "code",
   "execution_count": 15,
   "id": "e84be8d6",
   "metadata": {},
   "outputs": [],
   "source": [
    "means_l5 = results_l5[\"valid_mse_means\"]\n",
    "stds_l5 = results_l5[\"valid_mse_stds\"]\n",
    "means_l10 = results_l10[\"valid_mse_means\"]\n",
    "stds_l10 = results_l10[\"valid_mse_stds\"]    \n",
    "\n",
    "ci_lowers_l5 = means_l5 - 1.96 * stds_l5 / np.sqrt(L1)\n",
    "ci_uppers_l5 = means_l5 + 1.96 * stds_l5 / np.sqrt(L1)\n",
    "ci_lowers_l10 = means_l10 - 1.96 * stds_l10 / np.sqrt(L2)\n",
    "ci_uppers_l10 = means_l10 + 1.96 * stds_l10 / np.sqrt(L2)\n",
    "\n",
    "# add to results in order to plot\n",
    "results_l5[\"ci_lowers\"] = ci_lowers_l5\n",
    "results_l5[\"ci_uppers\"] = ci_uppers_l5\n",
    "results_l10[\"ci_lowers\"] = ci_lowers_l10\n",
    "results_l10[\"ci_uppers\"] = ci_uppers_l10\n"
   ]
  },
  {
   "cell_type": "markdown",
   "id": "e02ddcf6",
   "metadata": {},
   "source": [
    "#### Draw plots\n",
    "Plot two figures: one for L=5 and one for L=10. The confidence intervals are represented by shaded areas around the validation MSE mean curves."
   ]
  },
  {
   "cell_type": "code",
   "execution_count": 16,
   "id": "4f048106",
   "metadata": {},
   "outputs": [
    {
     "data": {
      "image/png": "[encoded data removed]",
      "text/plain": [
       "<Figure size 1600x500 with 2 Axes>"
      ]
     },
     "metadata": {},
     "output_type": "display_data"
    }
   ],
   "source": [
    "import matplotlib.pyplot as plt\n",
    "\n",
    "k_values = np.arange(1, max_k + 1)\n",
    "fig, axes = plt.subplots(1, 2, figsize=(16, 5))\n",
    "\n",
    "# L=5\n",
    "best_idx_l5 = int(np.argmin(results_l5[\"valid_mse_means\"]))\n",
    "best_k_l5 = int(k_values[best_idx_l5])\n",
    "best_mse_l5 = float(results_l5[\"valid_mse_means\"][best_idx_l5])\n",
    "\n",
    "axes[0].plot(k_values, results_l5[\"train_mse_means\"], label=\"Train MSE (L=5)\", color=\"blue\")\n",
    "axes[0].plot(k_values, results_l5[\"valid_mse_means\"], label=\"Valid MSE (L=5)\", color=\"orange\")\n",
    "axes[0].fill_between(\n",
    "    k_values,\n",
    "    results_l5[\"ci_lowers\"],\n",
    "    results_l5[\"ci_uppers\"],\n",
    "    color=\"orange\",\n",
    "    alpha=0.2,\n",
    "    label=\"confidence intervals\"\n",
    ")\n",
    "\n",
    "axes[0].scatter(best_k_l5, best_mse_l5, color=\"red\", s=60, zorder=5)\n",
    "axes[0].axvline(best_k_l5, color=\"red\", linestyle=\"--\", linewidth=1, alpha=0.7)\n",
    "axes[0].annotate(\n",
    "    f\"best k={best_k_l5}\\nvalid MSE={best_mse_l5:.3g}\",\n",
    "    xy=(best_k_l5, best_mse_l5),\n",
    "    xytext=(10, -20),\n",
    "    textcoords=\"offset points\",\n",
    "    color=\"red\",\n",
    "    fontsize=9,\n",
    "    bbox=dict(boxstyle=\"round,pad=0.2\", fc=\"white\", ec=\"red\", alpha=0.6),\n",
    "    arrowprops=dict(arrowstyle=\"->\", color=\"red\", lw=1),\n",
    ")\n",
    "\n",
    "axes[0].set_xlabel(\"k\")\n",
    "axes[0].set_ylabel(\"MSE\")\n",
    "axes[0].set_title(\"L=5: Train/Valid MSE vs k\")\n",
    "axes[0].legend()\n",
    "axes[0].grid(True)\n",
    "\n",
    "# L=10\n",
    "best_idx_l10 = int(np.argmin(results_l10[\"valid_mse_means\"]))\n",
    "best_k_l10 = int(k_values[best_idx_l10])\n",
    "best_mse_l10 = float(results_l10[\"valid_mse_means\"][best_idx_l10])\n",
    "\n",
    "axes[1].plot(k_values, results_l10[\"train_mse_means\"], label=\"Train MSE (L=10)\", color=\"blue\")\n",
    "axes[1].plot(k_values, results_l10[\"valid_mse_means\"], label=\"Valid MSE (L=10)\", color=\"orange\")\n",
    "axes[1].fill_between(\n",
    "    k_values,\n",
    "    results_l10[\"ci_lowers\"],\n",
    "    results_l10[\"ci_uppers\"],\n",
    "    color=\"orange\",\n",
    "    alpha=0.2,\n",
    "    label=\"confidence intervals\"\n",
    ")\n",
    "\n",
    "axes[1].scatter(best_k_l10, best_mse_l10, color=\"red\", s=60, zorder=5)\n",
    "axes[1].axvline(best_k_l10, color=\"red\", linestyle=\"--\", linewidth=1, alpha=0.7)\n",
    "axes[1].annotate(\n",
    "    f\"best k={best_k_l10}\\nvalid MSE={best_mse_l10:.3g}\",\n",
    "    xy=(best_k_l10, best_mse_l10),\n",
    "    xytext=(10, -20),\n",
    "    textcoords=\"offset points\",\n",
    "    color=\"red\",\n",
    "    fontsize=9,\n",
    "    bbox=dict(boxstyle=\"round,pad=0.2\", fc=\"white\", ec=\"red\", alpha=0.6),\n",
    "    arrowprops=dict(arrowstyle=\"->\", color=\"red\", lw=1),\n",
    ")\n",
    "\n",
    "axes[1].set_xlabel(\"k\")\n",
    "axes[1].set_ylabel(\"MSE\")\n",
    "axes[1].set_title(\"L=10: Train/Valid MSE vs k\")\n",
    "axes[1].legend()\n",
    "axes[1].grid(True)\n",
    "\n",
    "plt.tight_layout()\n",
    "plt.show()\n"
   ]
  },
  {
   "cell_type": "markdown",
   "id": "fe64a216",
   "metadata": {},
   "source": [
    "#### Analysis\n",
    "From the plots, we observe that very small values of $k$ (e.g., 1–3) lead to extremely low training errors but high validation errors, indicating overfitting. When $k$ increases to 23, the validation error reaches its minimum, which can be regarded as the optimal region. For large $k$ values (>23), both training and validation errors increase, and the model suffers from underfitting.\n",
    "\n",
    "Comparing $L$=5 and $L$=10, both curves show similar trends, but the confidence intervals are wider for $L$=5, implying higher variance in the error estimates. In contrast, $L$=10 produces narrower confidence intervals and thus more stable performance estimates, at the cost of higher computational effort. Given the dataset size (309 training samples), $L$=10 provides a more reliable choice."
   ]
  },
  {
   "cell_type": "markdown",
   "id": "e4aa4419",
   "metadata": {},
   "source": [
    "## 3 Question 3 Automatic Model Selection"
   ]
  },
  {
   "cell_type": "markdown",
   "id": "56f9b45b",
   "metadata": {},
   "source": [
    "### Task I. KnnRegressorCV implementation"
   ]
  },
  {
   "cell_type": "code",
   "execution_count": 17,
   "id": "0aac4dab",
   "metadata": {},
   "outputs": [],
   "source": [
    "from sklearn.base import BaseEstimator\n",
    "\n",
    "\n",
    "class KnnRegressorCV(BaseEstimator):\n",
    "    def __init__(self, ks=list(range(1, 21)), cv=LFold(5)):\n",
    "        self.ks = ks\n",
    "        self.cv = cv\n",
    "        self.k_ = None  # the best k\n",
    "        self.model_ = None  # the best model\n",
    "\n",
    "    def fit(self, x, y):\n",
    "        best_k = None\n",
    "        best_score = float(\"inf\")\n",
    "\n",
    "        # iterate over each k\n",
    "        for k in self.ks:\n",
    "            val_errors = []\n",
    "            for train_idx, val_idx in self.cv.split(x):\n",
    "                # split data\n",
    "                X_tr, y_tr = x[train_idx], y[train_idx]\n",
    "                X_val, y_val = x[val_idx], y[val_idx]\n",
    "\n",
    "                knn = KnnRegressor(k=k)\n",
    "                knn.fit(X_tr, y_tr)\n",
    "                y_val_pred = knn.predict(X_val)\n",
    "                val_mse = mse(y_val, y_val_pred)\n",
    "                val_errors.append(val_mse)\n",
    "\n",
    "            mean_error = np.mean(val_errors)\n",
    "            if mean_error < best_score:\n",
    "                best_score = mean_error\n",
    "                best_k = k\n",
    "\n",
    "        # record the best k and the model\n",
    "        self.k_ = int(best_k)\n",
    "        self.model_ = KnnRegressor(k=self.k_).fit(x, y)\n",
    "        return self\n",
    "\n",
    "    def predict(self, x):\n",
    "        return self.model_.predict(x)"
   ]
  },
  {
   "cell_type": "code",
   "execution_count": 18,
   "id": "9371e70a",
   "metadata": {},
   "outputs": [
    {
     "name": "stdout",
     "output_type": "stream",
     "text": [
      "Chosen k by inner CV: 19\n"
     ]
    }
   ],
   "source": [
    "l_fold = LFold(L=10)\n",
    "knn_cv = KnnRegressorCV(ks=list(range(1, 21)), cv=l_fold)\n",
    "knn_cv.fit(X, y)\n",
    "knn_cv.predict(X_test)\n",
    "print(\"Chosen k by inner CV:\", knn_cv.k_)\n"
   ]
  },
  {
   "cell_type": "markdown",
   "id": "9fde74df",
   "metadata": {},
   "source": [
    "### Task II. Nested cross-validation\n",
    "\n",
    "Experimental setup: Outer CV is 10-fold, inner CV is 10-fold, and the tested k values are in the range [1, 60]"
   ]
  },
  {
   "cell_type": "code",
   "execution_count": 19,
   "id": "0eeaad4f",
   "metadata": {},
   "outputs": [
    {
     "name": "stdout",
     "output_type": "stream",
     "text": [
      "[Outer Fold] 1 completed, Best k: 20 with Test MSE: 3702.6724\n",
      "[Outer Fold] 2 completed, Best k: 16 with Test MSE: 3814.6490\n",
      "[Outer Fold] 3 completed, Best k: 18 with Test MSE: 3032.5382\n",
      "[Outer Fold] 4 completed, Best k: 18 with Test MSE: 3377.8617\n",
      "[Outer Fold] 5 completed, Best k: 10 with Test MSE: 3465.1839\n",
      "[Outer Fold] 6 completed, Best k: 20 with Test MSE: 3184.8859\n",
      "[Outer Fold] 7 completed, Best k: 18 with Test MSE: 2658.6661\n",
      "[Outer Fold] 8 completed, Best k: 20 with Test MSE: 4207.0656\n",
      "[Outer Fold] 9 completed, Best k: 24 with Test MSE: 2329.0017\n",
      "[Outer Fold] 10 completed, Best k: 20 with Test MSE: 2886.2298\n",
      "Average k: 18.40\n"
     ]
    },
    {
     "data": {
      "image/png": "[encoded data removed]",
      "text/plain": [
       "<Figure size 1000x500 with 1 Axes>"
      ]
     },
     "metadata": {},
     "output_type": "display_data"
    }
   ],
   "source": [
    "outer_cv = LFold(L=10, shuffle=True, random_state=18)\n",
    "inner_cv = LFold(L=10, shuffle=True, random_state=18)\n",
    "\n",
    "chosen_ks, test_mses = [], []\n",
    "fold_count = 0\n",
    "for tr_idx, val_idx in outer_cv.split(X):\n",
    "    X_tr, y_tr = X[tr_idx], y[tr_idx]\n",
    "    X_val, y_val = X[val_idx], y[val_idx]\n",
    "\n",
    "    knn = KnnRegressorCV(ks=list(range(1,61)), cv=inner_cv).fit(X_tr, y_tr)\n",
    "    chosen_ks.append(knn.k_)\n",
    "    y_pred = knn.predict(X_val)\n",
    "    # error of best model (in this outer fold)\n",
    "    test_mses.append(mse(y_val, y_pred))\n",
    "    fold_count += 1\n",
    "    print(f\"[Outer Fold] {fold_count} completed, Best k: {knn.k_} with Test MSE: {test_mses[-1]:.4f}\")\n",
    "\n",
    "# mean K\n",
    "mean_k = np.mean(chosen_ks)\n",
    "print(f\"Average k: {mean_k:.2f}\")\n",
    "\n",
    "# plot the chosen k\n",
    "plt.figure(figsize=(10, 5))\n",
    "plt.plot(range(1, len(chosen_ks) + 1), chosen_ks, marker='o', linestyle='-', label=\"Chosen k per outer fold\")\n",
    "\n",
    "# mean k\n",
    "plt.axhline(y=mean_k, color='r', linestyle='--', label=f\"Mean k = {mean_k:.1f}\")\n",
    "\n",
    "plt.xlabel(\"Outer Fold\")\n",
    "plt.ylabel(\"Chosen k\")\n",
    "plt.title(\"K values chosen by Internal CV across Outer Folds\")\n",
    "plt.xticks(range(1, len(chosen_ks) + 1))\n",
    "plt.legend()\n",
    "plt.grid(True, linestyle=\"--\", alpha=0.6)\n",
    "plt.show()\n"
   ]
  },
  {
   "cell_type": "markdown",
   "id": "4f9a132a",
   "metadata": {},
   "source": [
    "#### Analysis\n",
    "\n",
    "The KNN regressor with internal cv selected an average k-value of 18.4 across the 10 outer folds. The individual k-values chosen ranged from 10 to 24, with most selections clustering around 18-20.\n",
    "\n",
    "However, the mean k-value of 18.4 does **NOT** correspond to the optimal k-value with respect to the outer test sets. The lowest test MSE (2329.0017) was achieved in outer fold 9 with k=24.\n",
    "\n",
    "First, the representativeness and stability of the dataset will affect the selection of the optimal model. We can see that in this experiment, the k values chosen by different outer folds vary greatly (10-24), which shows that there are large differences within the dataset. When the training subsets cannot well represent the overall data distribution, the selection by internal CV becomes unreliable.\n",
    "\n",
    "Second, the choice of hyperparameters will also affect model selection. KNN is very sensitive to the k value, and small changes may lead to large performance fluctuations. If the model has many \"local optimal points\", internal CV can easily get trapped in them.\n",
    "\n",
    "In addition, the design of cross-validation, such as the number of folds, splitting method, and random seed, will also affect the stability of the results."
   ]
  },
  {
   "cell_type": "code",
   "execution_count": null,
   "id": "c5246e09-d4fa-4036-85f1-d4701d300fff",
   "metadata": {},
   "outputs": [],
   "source": []
  }
 ],
 "metadata": {
  "kernelspec": {
   "display_name": "Python 3 (ipykernel)",
   "language": "python",
   "name": "python3"
  },
  "language_info": {
   "codemirror_mode": {
    "name": "ipython",
    "version": 3
   },
   "file_extension": ".py",
   "mimetype": "text/x-python",
   "name": "python",
   "nbconvert_exporter": "python",
   "pygments_lexer": "ipython3",
   "version": "3.10.9"
  }
 },
 "nbformat": 4,
 "nbformat_minor": 5
}

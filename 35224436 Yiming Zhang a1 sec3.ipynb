{
 "cells": [
  {
   "cell_type": "markdown",
   "id": "fc67fef5",
   "metadata": {},
   "source": [
    "# 3 Logistic Regression versus Bayes Classifier\n",
    "**Student ID: 35224436 | Full name: Yiming Zhang**"
   ]
  },
  {
   "cell_type": "markdown",
   "id": "9cb8dc9a",
   "metadata": {},
   "source": [
    "## Task I"
   ]
  },
  {
   "cell_type": "markdown",
   "id": "334d017b",
   "metadata": {},
   "source": [
    "### 1. Data preparation\n",
    "Load the data and output some descriptive information about the data"
   ]
  },
  {
   "cell_type": "code",
   "execution_count": 1,
   "id": "0c8f5aef",
   "metadata": {},
   "outputs": [
    {
     "name": "stdout",
     "output_type": "stream",
     "text": [
      "(569, 30)\n",
      "(569,)\n"
     ]
    },
    {
     "data": {
      "text/html": [
       "<div>\n",
       "<style scoped>\n",
       "    .dataframe tbody tr th:only-of-type {\n",
       "        vertical-align: middle;\n",
       "    }\n",
       "\n",
       "    .dataframe tbody tr th {\n",
       "        vertical-align: top;\n",
       "    }\n",
       "\n",
       "    .dataframe thead th {\n",
       "        text-align: right;\n",
       "    }\n",
       "</style>\n",
       "<table border=\"1\" class=\"dataframe\">\n",
       "  <thead>\n",
       "    <tr style=\"text-align: right;\">\n",
       "      <th></th>\n",
       "      <th>mean radius</th>\n",
       "      <th>mean texture</th>\n",
       "      <th>mean perimeter</th>\n",
       "      <th>mean area</th>\n",
       "      <th>mean smoothness</th>\n",
       "      <th>mean compactness</th>\n",
       "      <th>mean concavity</th>\n",
       "      <th>mean concave points</th>\n",
       "      <th>mean symmetry</th>\n",
       "      <th>mean fractal dimension</th>\n",
       "      <th>...</th>\n",
       "      <th>worst radius</th>\n",
       "      <th>worst texture</th>\n",
       "      <th>worst perimeter</th>\n",
       "      <th>worst area</th>\n",
       "      <th>worst smoothness</th>\n",
       "      <th>worst compactness</th>\n",
       "      <th>worst concavity</th>\n",
       "      <th>worst concave points</th>\n",
       "      <th>worst symmetry</th>\n",
       "      <th>worst fractal dimension</th>\n",
       "    </tr>\n",
       "  </thead>\n",
       "  <tbody>\n",
       "    <tr>\n",
       "      <th>0</th>\n",
       "      <td>17.99</td>\n",
       "      <td>10.38</td>\n",
       "      <td>122.80</td>\n",
       "      <td>1001.0</td>\n",
       "      <td>0.11840</td>\n",
       "      <td>0.27760</td>\n",
       "      <td>0.3001</td>\n",
       "      <td>0.14710</td>\n",
       "      <td>0.2419</td>\n",
       "      <td>0.07871</td>\n",
       "      <td>...</td>\n",
       "      <td>25.38</td>\n",
       "      <td>17.33</td>\n",
       "      <td>184.60</td>\n",
       "      <td>2019.0</td>\n",
       "      <td>0.1622</td>\n",
       "      <td>0.6656</td>\n",
       "      <td>0.7119</td>\n",
       "      <td>0.2654</td>\n",
       "      <td>0.4601</td>\n",
       "      <td>0.11890</td>\n",
       "    </tr>\n",
       "    <tr>\n",
       "      <th>1</th>\n",
       "      <td>20.57</td>\n",
       "      <td>17.77</td>\n",
       "      <td>132.90</td>\n",
       "      <td>1326.0</td>\n",
       "      <td>0.08474</td>\n",
       "      <td>0.07864</td>\n",
       "      <td>0.0869</td>\n",
       "      <td>0.07017</td>\n",
       "      <td>0.1812</td>\n",
       "      <td>0.05667</td>\n",
       "      <td>...</td>\n",
       "      <td>24.99</td>\n",
       "      <td>23.41</td>\n",
       "      <td>158.80</td>\n",
       "      <td>1956.0</td>\n",
       "      <td>0.1238</td>\n",
       "      <td>0.1866</td>\n",
       "      <td>0.2416</td>\n",
       "      <td>0.1860</td>\n",
       "      <td>0.2750</td>\n",
       "      <td>0.08902</td>\n",
       "    </tr>\n",
       "    <tr>\n",
       "      <th>2</th>\n",
       "      <td>19.69</td>\n",
       "      <td>21.25</td>\n",
       "      <td>130.00</td>\n",
       "      <td>1203.0</td>\n",
       "      <td>0.10960</td>\n",
       "      <td>0.15990</td>\n",
       "      <td>0.1974</td>\n",
       "      <td>0.12790</td>\n",
       "      <td>0.2069</td>\n",
       "      <td>0.05999</td>\n",
       "      <td>...</td>\n",
       "      <td>23.57</td>\n",
       "      <td>25.53</td>\n",
       "      <td>152.50</td>\n",
       "      <td>1709.0</td>\n",
       "      <td>0.1444</td>\n",
       "      <td>0.4245</td>\n",
       "      <td>0.4504</td>\n",
       "      <td>0.2430</td>\n",
       "      <td>0.3613</td>\n",
       "      <td>0.08758</td>\n",
       "    </tr>\n",
       "    <tr>\n",
       "      <th>3</th>\n",
       "      <td>11.42</td>\n",
       "      <td>20.38</td>\n",
       "      <td>77.58</td>\n",
       "      <td>386.1</td>\n",
       "      <td>0.14250</td>\n",
       "      <td>0.28390</td>\n",
       "      <td>0.2414</td>\n",
       "      <td>0.10520</td>\n",
       "      <td>0.2597</td>\n",
       "      <td>0.09744</td>\n",
       "      <td>...</td>\n",
       "      <td>14.91</td>\n",
       "      <td>26.50</td>\n",
       "      <td>98.87</td>\n",
       "      <td>567.7</td>\n",
       "      <td>0.2098</td>\n",
       "      <td>0.8663</td>\n",
       "      <td>0.6869</td>\n",
       "      <td>0.2575</td>\n",
       "      <td>0.6638</td>\n",
       "      <td>0.17300</td>\n",
       "    </tr>\n",
       "    <tr>\n",
       "      <th>4</th>\n",
       "      <td>20.29</td>\n",
       "      <td>14.34</td>\n",
       "      <td>135.10</td>\n",
       "      <td>1297.0</td>\n",
       "      <td>0.10030</td>\n",
       "      <td>0.13280</td>\n",
       "      <td>0.1980</td>\n",
       "      <td>0.10430</td>\n",
       "      <td>0.1809</td>\n",
       "      <td>0.05883</td>\n",
       "      <td>...</td>\n",
       "      <td>22.54</td>\n",
       "      <td>16.67</td>\n",
       "      <td>152.20</td>\n",
       "      <td>1575.0</td>\n",
       "      <td>0.1374</td>\n",
       "      <td>0.2050</td>\n",
       "      <td>0.4000</td>\n",
       "      <td>0.1625</td>\n",
       "      <td>0.2364</td>\n",
       "      <td>0.07678</td>\n",
       "    </tr>\n",
       "  </tbody>\n",
       "</table>\n",
       "<p>5 rows × 30 columns</p>\n",
       "</div>"
      ],
      "text/plain": [
       "   mean radius  mean texture  mean perimeter  mean area  mean smoothness  \\\n",
       "0        17.99         10.38          122.80     1001.0          0.11840   \n",
       "1        20.57         17.77          132.90     1326.0          0.08474   \n",
       "2        19.69         21.25          130.00     1203.0          0.10960   \n",
       "3        11.42         20.38           77.58      386.1          0.14250   \n",
       "4        20.29         14.34          135.10     1297.0          0.10030   \n",
       "\n",
       "   mean compactness  mean concavity  mean concave points  mean symmetry  \\\n",
       "0           0.27760          0.3001              0.14710         0.2419   \n",
       "1           0.07864          0.0869              0.07017         0.1812   \n",
       "2           0.15990          0.1974              0.12790         0.2069   \n",
       "3           0.28390          0.2414              0.10520         0.2597   \n",
       "4           0.13280          0.1980              0.10430         0.1809   \n",
       "\n",
       "   mean fractal dimension  ...  worst radius  worst texture  worst perimeter  \\\n",
       "0                 0.07871  ...         25.38          17.33           184.60   \n",
       "1                 0.05667  ...         24.99          23.41           158.80   \n",
       "2                 0.05999  ...         23.57          25.53           152.50   \n",
       "3                 0.09744  ...         14.91          26.50            98.87   \n",
       "4                 0.05883  ...         22.54          16.67           152.20   \n",
       "\n",
       "   worst area  worst smoothness  worst compactness  worst concavity  \\\n",
       "0      2019.0            0.1622             0.6656           0.7119   \n",
       "1      1956.0            0.1238             0.1866           0.2416   \n",
       "2      1709.0            0.1444             0.4245           0.4504   \n",
       "3       567.7            0.2098             0.8663           0.6869   \n",
       "4      1575.0            0.1374             0.2050           0.4000   \n",
       "\n",
       "   worst concave points  worst symmetry  worst fractal dimension  \n",
       "0                0.2654          0.4601                  0.11890  \n",
       "1                0.1860          0.2750                  0.08902  \n",
       "2                0.2430          0.3613                  0.08758  \n",
       "3                0.2575          0.6638                  0.17300  \n",
       "4                0.1625          0.2364                  0.07678  \n",
       "\n",
       "[5 rows x 30 columns]"
      ]
     },
     "execution_count": 1,
     "metadata": {},
     "output_type": "execute_result"
    }
   ],
   "source": [
    "from sklearn.datasets import load_breast_cancer\n",
    "\n",
    "data = load_breast_cancer(as_frame=True)\n",
    "\n",
    "X = data.data\n",
    "y = data.target\n",
    "print(X.shape)\n",
    "print(y.shape)\n",
    "# print the first 5 rows of the data\n",
    "X.head()"
   ]
  },
  {
   "cell_type": "markdown",
   "id": "8ea3a6fc",
   "metadata": {},
   "source": [
    "Data splitting with train_size=0.8"
   ]
  },
  {
   "cell_type": "code",
   "execution_count": 2,
   "id": "00d354f0",
   "metadata": {},
   "outputs": [
    {
     "data": {
      "text/plain": [
       "((455, 30), (114, 30), (455,), (114,))"
      ]
     },
     "execution_count": 2,
     "metadata": {},
     "output_type": "execute_result"
    }
   ],
   "source": [
    "from sklearn.model_selection import train_test_split\n",
    "X_train, X_test, y_train, y_test = train_test_split(X, y, test_size=0.2, random_state=1024)\n",
    "X_train.shape, X_test.shape, y_train.shape, y_test.shape"
   ]
  },
  {
   "cell_type": "markdown",
   "id": "821a3e4e",
   "metadata": {},
   "source": [
    "### 2. Bayesian Classifier \n"
   ]
  },
  {
   "cell_type": "code",
   "execution_count": 3,
   "id": "da95558b",
   "metadata": {},
   "outputs": [],
   "source": [
    "from scipy.stats import multivariate_normal\n",
    "import numpy as np\n",
    "\n",
    "\n",
    "class BayesianClassifier:\n",
    "    def __init__(self, shared_cov=True, cond_ind=True):\n",
    "        self.shared_cov = shared_cov  # whether to share the covariance matrix\n",
    "        self.cond_ind = cond_ind  # whether to assume conditional independence\n",
    "\n",
    "    def fit(self, x, y):\n",
    "        # get the classes and their counts\n",
    "        self.classes_, class_counts = np.unique(y, return_counts=True)\n",
    "        self.n_, self.p_ = x.shape  # get sample number and feature number\n",
    "        self.k_ = len(self.classes_)  # [0, 1, 2, ..., k-1]\n",
    "\n",
    "        # initialize the conditional means and covariance matrices\n",
    "        self.cond_means_ = np.zeros(shape=(self.k_, self.p_))\n",
    "        self.cond_covs_ = np.zeros(shape=(self.k_, self.p_, self.p_))\n",
    "\n",
    "        # calculate the prior probabilities\n",
    "        self.class_priors_ = class_counts / len(y)\n",
    "\n",
    "        # calculate the conditional means and covariance matrices for each class\n",
    "        for c in range(self.k_):\n",
    "            c_rows = y == c\n",
    "\n",
    "            self.cond_means_[c, :] = x[c_rows].mean(axis=0)\n",
    "\n",
    "            if self.cond_ind:\n",
    "                # conditional independence -> diagonal matrix\n",
    "                np.fill_diagonal(self.cond_covs_[c, :, :], x[c_rows].var(axis=0))\n",
    "            else:\n",
    "                self.cond_covs_[c, :, :] = np.cov(x[c_rows].T, bias=True)\n",
    "\n",
    "        if self.shared_cov:\n",
    "            # calculate the shared covariance matrix\n",
    "            # weighted average of the covariance matrices of each class\n",
    "            shared_cov = np.moveaxis(self.cond_covs_, 0, -1).dot(self.class_priors_)\n",
    "            self.cond_covs_[:] = shared_cov\n",
    "\n",
    "        return self\n",
    "\n",
    "    def predict_proba(self, x):\n",
    "        m, _ = x.shape\n",
    "        cond_probs = np.zeros(shape=(m, self.k_))\n",
    "        for c in range(self.k_):\n",
    "            # find p(x | c_k)\n",
    "            # singular covariance matrices could happen (e.g., through inaccurate estimation)\n",
    "            cond_probs[:, c] = multivariate_normal.pdf(\n",
    "                x, self.cond_means_[c], self.cond_covs_[c], allow_singular=True\n",
    "            )\n",
    "        # find marginal probabilities p(x) by summing all the conditionals weighted by the priors\n",
    "        marginal_probs = cond_probs.dot(self.class_priors_)\n",
    "\n",
    "        # find probability vector (p(c1 | x), ..., p(ck | x)) via p(ci | x)=p(x | ci) / p(x)\n",
    "        # however, p(x) might have been rounded to 0\n",
    "        # thus, compute via case distinction\n",
    "        probs = np.divide(\n",
    "            (cond_probs * self.class_priors_).T,\n",
    "            marginal_probs,\n",
    "            where=marginal_probs > 0,\n",
    "            out=np.zeros(shape=(self.k_, m)),\n",
    "        ).T\n",
    "        return probs\n",
    "\n",
    "    def predict(self, x):\n",
    "        return np.argmax(self.predict_proba(x), axis=1)\n",
    "\n",
    "    def decision_function(self, x):\n",
    "        probs = self.predict_proba(x)\n",
    "        if self.k_ == 2:\n",
    "            return np.log(probs[:, 1] / probs[:, 0])\n",
    "        else:\n",
    "            res = np.zeros(len(x), self.k_)\n",
    "            for c in range(self.k_):\n",
    "                res[:, c] = np.log(probs[:, c] / (1 - probs[:, c]))\n",
    "            return res\n",
    "\n",
    "    def generate(self, n, c, random_state=None):\n",
    "        return multivariate_normal.rvs(\n",
    "            self.cond_means_[c], self.cond_covs_[c], size=n, random_state=random_state\n",
    "        )"
   ]
  },
  {
   "cell_type": "markdown",
   "id": "ce59f70d",
   "metadata": {},
   "source": [
    "### 3. Variants of Bayesian Classifiers\n",
    "In this section, we define three types of Bayesian classifiers: the Naive Bayes variant (without shared covariance), as well as the variants with full covariance (both shared and not shared)."
   ]
  },
  {
   "cell_type": "code",
   "execution_count": 4,
   "id": "2864425d",
   "metadata": {},
   "outputs": [],
   "source": [
    "# Naive Bayes variant\n",
    "naive_bayes = BayesianClassifier(shared_cov=False, cond_ind=True)\n",
    "# full covariance variant with shared covariance\n",
    "full_cov_shared = BayesianClassifier(shared_cov=True, cond_ind=False)\n",
    "# full covariance variant with not shared covariance\n",
    "full_cov_not_shared = BayesianClassifier(shared_cov=False, cond_ind=False)"
   ]
  },
  {
   "cell_type": "markdown",
   "id": "7dbbe29d",
   "metadata": {},
   "source": [
    "### 4. Training Process\n",
    "Use the training set obtained in the first step to train the three variants of Bayesian classifiers and the logistic regression model."
   ]
  },
  {
   "cell_type": "code",
   "execution_count": 5,
   "id": "4300655e",
   "metadata": {},
   "outputs": [
    {
     "data": {
      "text/html": [
       "<style>#sk-container-id-1 {color: black;background-color: white;}#sk-container-id-1 pre{padding: 0;}#sk-container-id-1 div.sk-toggleable {background-color: white;}#sk-container-id-1 label.sk-toggleable__label {cursor: pointer;display: block;width: 100%;margin-bottom: 0;padding: 0.3em;box-sizing: border-box;text-align: center;}#sk-container-id-1 label.sk-toggleable__label-arrow:before {content: \"▸\";float: left;margin-right: 0.25em;color: #696969;}#sk-container-id-1 label.sk-toggleable__label-arrow:hover:before {color: black;}#sk-container-id-1 div.sk-estimator:hover label.sk-toggleable__label-arrow:before {color: black;}#sk-container-id-1 div.sk-toggleable__content {max-height: 0;max-width: 0;overflow: hidden;text-align: left;background-color: #f0f8ff;}#sk-container-id-1 div.sk-toggleable__content pre {margin: 0.2em;color: black;border-radius: 0.25em;background-color: #f0f8ff;}#sk-container-id-1 input.sk-toggleable__control:checked~div.sk-toggleable__content {max-height: 200px;max-width: 100%;overflow: auto;}#sk-container-id-1 input.sk-toggleable__control:checked~label.sk-toggleable__label-arrow:before {content: \"▾\";}#sk-container-id-1 div.sk-estimator input.sk-toggleable__control:checked~label.sk-toggleable__label {background-color: #d4ebff;}#sk-container-id-1 div.sk-label input.sk-toggleable__control:checked~label.sk-toggleable__label {background-color: #d4ebff;}#sk-container-id-1 input.sk-hidden--visually {border: 0;clip: rect(1px 1px 1px 1px);clip: rect(1px, 1px, 1px, 1px);height: 1px;margin: -1px;overflow: hidden;padding: 0;position: absolute;width: 1px;}#sk-container-id-1 div.sk-estimator {font-family: monospace;background-color: #f0f8ff;border: 1px dotted black;border-radius: 0.25em;box-sizing: border-box;margin-bottom: 0.5em;}#sk-container-id-1 div.sk-estimator:hover {background-color: #d4ebff;}#sk-container-id-1 div.sk-parallel-item::after {content: \"\";width: 100%;border-bottom: 1px solid gray;flex-grow: 1;}#sk-container-id-1 div.sk-label:hover label.sk-toggleable__label {background-color: #d4ebff;}#sk-container-id-1 div.sk-serial::before {content: \"\";position: absolute;border-left: 1px solid gray;box-sizing: border-box;top: 0;bottom: 0;left: 50%;z-index: 0;}#sk-container-id-1 div.sk-serial {display: flex;flex-direction: column;align-items: center;background-color: white;padding-right: 0.2em;padding-left: 0.2em;position: relative;}#sk-container-id-1 div.sk-item {position: relative;z-index: 1;}#sk-container-id-1 div.sk-parallel {display: flex;align-items: stretch;justify-content: center;background-color: white;position: relative;}#sk-container-id-1 div.sk-item::before, #sk-container-id-1 div.sk-parallel-item::before {content: \"\";position: absolute;border-left: 1px solid gray;box-sizing: border-box;top: 0;bottom: 0;left: 50%;z-index: -1;}#sk-container-id-1 div.sk-parallel-item {display: flex;flex-direction: column;z-index: 1;position: relative;background-color: white;}#sk-container-id-1 div.sk-parallel-item:first-child::after {align-self: flex-end;width: 50%;}#sk-container-id-1 div.sk-parallel-item:last-child::after {align-self: flex-start;width: 50%;}#sk-container-id-1 div.sk-parallel-item:only-child::after {width: 0;}#sk-container-id-1 div.sk-dashed-wrapped {border: 1px dashed gray;margin: 0 0.4em 0.5em 0.4em;box-sizing: border-box;padding-bottom: 0.4em;background-color: white;}#sk-container-id-1 div.sk-label label {font-family: monospace;font-weight: bold;display: inline-block;line-height: 1.2em;}#sk-container-id-1 div.sk-label-container {text-align: center;}#sk-container-id-1 div.sk-container {/* jupyter's `normalize.less` sets `[hidden] { display: none; }` but bootstrap.min.css set `[hidden] { display: none !important; }` so we also need the `!important` here to be able to override the default hidden behavior on the sphinx rendered scikit-learn.org. See: https://github.com/scikit-learn/scikit-learn/issues/21755 */display: inline-block !important;position: relative;}#sk-container-id-1 div.sk-text-repr-fallback {display: none;}</style><div id=\"sk-container-id-1\" class=\"sk-top-container\"><div class=\"sk-text-repr-fallback\"><pre>Pipeline(steps=[(&#x27;standardscaler&#x27;, StandardScaler()),\n",
       "                (&#x27;logisticregression&#x27;, LogisticRegression(max_iter=1000))])</pre><b>In a Jupyter environment, please rerun this cell to show the HTML representation or trust the notebook. <br />On GitHub, the HTML representation is unable to render, please try loading this page with nbviewer.org.</b></div><div class=\"sk-container\" hidden><div class=\"sk-item sk-dashed-wrapped\"><div class=\"sk-label-container\"><div class=\"sk-label sk-toggleable\"><input class=\"sk-toggleable__control sk-hidden--visually\" id=\"sk-estimator-id-1\" type=\"checkbox\" ><label for=\"sk-estimator-id-1\" class=\"sk-toggleable__label sk-toggleable__label-arrow\">Pipeline</label><div class=\"sk-toggleable__content\"><pre>Pipeline(steps=[(&#x27;standardscaler&#x27;, StandardScaler()),\n",
       "                (&#x27;logisticregression&#x27;, LogisticRegression(max_iter=1000))])</pre></div></div></div><div class=\"sk-serial\"><div class=\"sk-item\"><div class=\"sk-estimator sk-toggleable\"><input class=\"sk-toggleable__control sk-hidden--visually\" id=\"sk-estimator-id-2\" type=\"checkbox\" ><label for=\"sk-estimator-id-2\" class=\"sk-toggleable__label sk-toggleable__label-arrow\">StandardScaler</label><div class=\"sk-toggleable__content\"><pre>StandardScaler()</pre></div></div></div><div class=\"sk-item\"><div class=\"sk-estimator sk-toggleable\"><input class=\"sk-toggleable__control sk-hidden--visually\" id=\"sk-estimator-id-3\" type=\"checkbox\" ><label for=\"sk-estimator-id-3\" class=\"sk-toggleable__label sk-toggleable__label-arrow\">LogisticRegression</label><div class=\"sk-toggleable__content\"><pre>LogisticRegression(max_iter=1000)</pre></div></div></div></div></div></div></div>"
      ],
      "text/plain": [
       "Pipeline(steps=[('standardscaler', StandardScaler()),\n",
       "                ('logisticregression', LogisticRegression(max_iter=1000))])"
      ]
     },
     "execution_count": 5,
     "metadata": {},
     "output_type": "execute_result"
    }
   ],
   "source": [
    "from sklearn.linear_model import LogisticRegression\n",
    "\n",
    "# Naive Bayes variant\n",
    "naive_bayes.fit(X_train, y_train)\n",
    "# full covariance variant with shared covariance\n",
    "full_cov_shared.fit(X_train, y_train)\n",
    "# full covariance variant with not shared covariance\n",
    "full_cov_not_shared.fit(X_train, y_train)\n",
    "# logistic regression model\n",
    "from sklearn.preprocessing import StandardScaler\n",
    "from sklearn.pipeline import make_pipeline\n",
    "logistic_regression = make_pipeline(StandardScaler(), LogisticRegression(max_iter=1000))\n",
    "# logistic_regression = LogisticRegression()\n",
    "logistic_regression.fit(X_train, y_train)"
   ]
  },
  {
   "cell_type": "markdown",
   "id": "f4b34f34",
   "metadata": {},
   "source": [
    "### 5. Evaulation Methods\n",
    "In this experiment, I evaluate the performance of logistic regression and several Bayesian classifiers on the sklearn breast cancer dataset. This dataset is a binary classification problem with 30 continuous features, where the classes are relatively balanced (212 malignant and 357 benign samples).\n",
    "To assess the models, I mainly adopt Accuracy and the Confusion Matrix:\n",
    "\n",
    "- **Accuracy** is used as a global measure of performance since the class distribution is not highly imbalanced. It provides a straightforward view of how many predictions are correct overall.\n",
    "\n",
    "- **Confusion Matrix** is included to give a more detailed picture of misclassifications, especially the number of false negatives (malignant cases predicted as benign). This helps identify the specific risks of using each classifier in a sensitive application like cancer diagnosis.\n",
    "\n",
    "Together, these metrics provide both an overall evaluation and a class-level analysis, ensuring that the comparison captures not only the general performance but also the medical relevance of the results."
   ]
  },
  {
   "cell_type": "markdown",
   "id": "5a904d87",
   "metadata": {},
   "source": [
    "#### Evaluation utilities"
   ]
  },
  {
   "cell_type": "code",
   "execution_count": 6,
   "id": "8100c837",
   "metadata": {},
   "outputs": [],
   "source": [
    "#### Evaluation utilities\n",
    "\n",
    "from sklearn.metrics import accuracy_score, confusion_matrix\n",
    "import pandas as pd\n",
    "from IPython.display import display\n",
    "\n",
    "\n",
    "def evaluate_classifier(\n",
    "    model,\n",
    "    model_name,\n",
    "):\n",
    "    \"\"\"\n",
    "    model: trained classifier.\n",
    "    model_name: name of the classifier.\n",
    "    X_test: test samples.\n",
    "    y_test: predicted test ground truth labels.\n",
    "    \"\"\"\n",
    "    y_pred_train = model.predict(X_train)\n",
    "    y_pred_test = model.predict(X_test)\n",
    "\n",
    "    # declare metrics\n",
    "    train_accuracy = accuracy_score(y_train, y_pred_train)\n",
    "    test_accuracy = accuracy_score(y_test, y_pred_test)\n",
    "    cm = confusion_matrix(y_test, y_pred_test)\n",
    "\n",
    "    print(f\"\\nEvaluation Model Name: {model_name}\")\n",
    "    accuracy_df = pd.DataFrame({    \n",
    "        \"Accuracy\": [train_accuracy, test_accuracy]\n",
    "    }, index=[\"Train\", \"Test\"])\n",
    "    display(accuracy_df)\n",
    "\n",
    "    # confusion matrix table\n",
    "    cm_df = pd.DataFrame(\n",
    "        cm,\n",
    "        index=[\"Actual 0 (malignant)\", \"Actual 1 (benign)\"],\n",
    "        columns=[\"Pred 0 (malignant)\", \"Pred 1 (benign)\"],\n",
    "    )\n",
    "    print(\"Confusion Matrix:\")\n",
    "    display(cm_df)\n",
    "\n",
    "    # error counts table\n",
    "    counts_df = pd.DataFrame(\n",
    "        {\n",
    "            \"False negatives\": [cm[0, 1]],  #  (actual 0 -> predicted 1)\n",
    "            \"False positives\": [cm[1, 0]],  #  (actual 1 -> predicted 0)\n",
    "        }\n",
    "    )\n",
    "    print(\"Error Counts:\")\n",
    "    display(counts_df)\n",
    "\n",
    "    return {\n",
    "        \"model_name\": model_name,\n",
    "        \"train_accuracy\": train_accuracy,\n",
    "        \"test_accuracy\": test_accuracy,\n",
    "        \"confusion_matrix\": cm,\n",
    "    }\n",
    "\n",
    "\n",
    "def compare_all_results(results):\n",
    "    \"\"\"\n",
    "    Compare results across classifiers and display a summary table.\n",
    "    \"\"\"\n",
    "    rows = []\n",
    "    for r in results:\n",
    "        cm = r[\"confusion_matrix\"]\n",
    "        rows.append(\n",
    "            {\n",
    "                \"Classifier\": r[\"model_name\"],\n",
    "                \"Test Accuracy\": r[\"test_accuracy\"],\n",
    "                \"Train Accuracy\": r[\"train_accuracy\"],\n",
    "                \"FN (0->1)\": int(cm[0, 1]),\n",
    "                \"FP (1->0)\": int(cm[1, 0]),\n",
    "            }\n",
    "        )\n",
    "\n",
    "    summary_df = pd.DataFrame(rows)\n",
    "    summary_df = summary_df.sort_values(by=[\"Test Accuracy\"], ascending=False).reset_index(\n",
    "        drop=True\n",
    "    )\n",
    "    print(\"Summary across classifiers:\")\n",
    "    display(summary_df.round(4))\n",
    "\n",
    "    # best models by key metrics\n",
    "    best_acc = max(results, key=lambda x: (x[\"test_accuracy\"], x[\"train_accuracy\"]))\n",
    "    print(f\"Best Test Accuracy: {best_acc['model_name']} ({best_acc['test_accuracy']:.4f}); \")\n",
    "\n",
    "\n",
    "# initialize a container for results\n",
    "results = []"
   ]
  },
  {
   "cell_type": "markdown",
   "id": "53ca4643",
   "metadata": {},
   "source": [
    "#### Evaulation process"
   ]
  },
  {
   "cell_type": "code",
   "execution_count": 7,
   "id": "388734fa",
   "metadata": {},
   "outputs": [
    {
     "name": "stdout",
     "output_type": "stream",
     "text": [
      "\n",
      "Evaluation Model Name: Naive Bayes\n"
     ]
    },
    {
     "data": {
      "text/html": [
       "<div>\n",
       "<style scoped>\n",
       "    .dataframe tbody tr th:only-of-type {\n",
       "        vertical-align: middle;\n",
       "    }\n",
       "\n",
       "    .dataframe tbody tr th {\n",
       "        vertical-align: top;\n",
       "    }\n",
       "\n",
       "    .dataframe thead th {\n",
       "        text-align: right;\n",
       "    }\n",
       "</style>\n",
       "<table border=\"1\" class=\"dataframe\">\n",
       "  <thead>\n",
       "    <tr style=\"text-align: right;\">\n",
       "      <th></th>\n",
       "      <th>Accuracy</th>\n",
       "    </tr>\n",
       "  </thead>\n",
       "  <tbody>\n",
       "    <tr>\n",
       "      <th>Train</th>\n",
       "      <td>0.929670</td>\n",
       "    </tr>\n",
       "    <tr>\n",
       "      <th>Test</th>\n",
       "      <td>0.938596</td>\n",
       "    </tr>\n",
       "  </tbody>\n",
       "</table>\n",
       "</div>"
      ],
      "text/plain": [
       "       Accuracy\n",
       "Train  0.929670\n",
       "Test   0.938596"
      ]
     },
     "metadata": {},
     "output_type": "display_data"
    },
    {
     "name": "stdout",
     "output_type": "stream",
     "text": [
      "Confusion Matrix:\n"
     ]
    },
    {
     "data": {
      "text/html": [
       "<div>\n",
       "<style scoped>\n",
       "    .dataframe tbody tr th:only-of-type {\n",
       "        vertical-align: middle;\n",
       "    }\n",
       "\n",
       "    .dataframe tbody tr th {\n",
       "        vertical-align: top;\n",
       "    }\n",
       "\n",
       "    .dataframe thead th {\n",
       "        text-align: right;\n",
       "    }\n",
       "</style>\n",
       "<table border=\"1\" class=\"dataframe\">\n",
       "  <thead>\n",
       "    <tr style=\"text-align: right;\">\n",
       "      <th></th>\n",
       "      <th>Pred 0 (malignant)</th>\n",
       "      <th>Pred 1 (benign)</th>\n",
       "    </tr>\n",
       "  </thead>\n",
       "  <tbody>\n",
       "    <tr>\n",
       "      <th>Actual 0 (malignant)</th>\n",
       "      <td>30</td>\n",
       "      <td>7</td>\n",
       "    </tr>\n",
       "    <tr>\n",
       "      <th>Actual 1 (benign)</th>\n",
       "      <td>0</td>\n",
       "      <td>77</td>\n",
       "    </tr>\n",
       "  </tbody>\n",
       "</table>\n",
       "</div>"
      ],
      "text/plain": [
       "                      Pred 0 (malignant)  Pred 1 (benign)\n",
       "Actual 0 (malignant)                  30                7\n",
       "Actual 1 (benign)                      0               77"
      ]
     },
     "metadata": {},
     "output_type": "display_data"
    },
    {
     "name": "stdout",
     "output_type": "stream",
     "text": [
      "Error Counts:\n"
     ]
    },
    {
     "data": {
      "text/html": [
       "<div>\n",
       "<style scoped>\n",
       "    .dataframe tbody tr th:only-of-type {\n",
       "        vertical-align: middle;\n",
       "    }\n",
       "\n",
       "    .dataframe tbody tr th {\n",
       "        vertical-align: top;\n",
       "    }\n",
       "\n",
       "    .dataframe thead th {\n",
       "        text-align: right;\n",
       "    }\n",
       "</style>\n",
       "<table border=\"1\" class=\"dataframe\">\n",
       "  <thead>\n",
       "    <tr style=\"text-align: right;\">\n",
       "      <th></th>\n",
       "      <th>False negatives</th>\n",
       "      <th>False positives</th>\n",
       "    </tr>\n",
       "  </thead>\n",
       "  <tbody>\n",
       "    <tr>\n",
       "      <th>0</th>\n",
       "      <td>7</td>\n",
       "      <td>0</td>\n",
       "    </tr>\n",
       "  </tbody>\n",
       "</table>\n",
       "</div>"
      ],
      "text/plain": [
       "   False negatives  False positives\n",
       "0                7                0"
      ]
     },
     "metadata": {},
     "output_type": "display_data"
    }
   ],
   "source": [
    "# 1) Evaluate Naive Bayes\n",
    "result1 = evaluate_classifier(naive_bayes, \"Naive Bayes\",  )\n",
    "results.append(result1)\n"
   ]
  },
  {
   "cell_type": "code",
   "execution_count": 8,
   "id": "78b57a8d",
   "metadata": {},
   "outputs": [
    {
     "name": "stdout",
     "output_type": "stream",
     "text": [
      "\n",
      "Evaluation Model Name: Full Covariance (Shared)\n"
     ]
    },
    {
     "data": {
      "text/html": [
       "<div>\n",
       "<style scoped>\n",
       "    .dataframe tbody tr th:only-of-type {\n",
       "        vertical-align: middle;\n",
       "    }\n",
       "\n",
       "    .dataframe tbody tr th {\n",
       "        vertical-align: top;\n",
       "    }\n",
       "\n",
       "    .dataframe thead th {\n",
       "        text-align: right;\n",
       "    }\n",
       "</style>\n",
       "<table border=\"1\" class=\"dataframe\">\n",
       "  <thead>\n",
       "    <tr style=\"text-align: right;\">\n",
       "      <th></th>\n",
       "      <th>Accuracy</th>\n",
       "    </tr>\n",
       "  </thead>\n",
       "  <tbody>\n",
       "    <tr>\n",
       "      <th>Train</th>\n",
       "      <td>0.960440</td>\n",
       "    </tr>\n",
       "    <tr>\n",
       "      <th>Test</th>\n",
       "      <td>0.973684</td>\n",
       "    </tr>\n",
       "  </tbody>\n",
       "</table>\n",
       "</div>"
      ],
      "text/plain": [
       "       Accuracy\n",
       "Train  0.960440\n",
       "Test   0.973684"
      ]
     },
     "metadata": {},
     "output_type": "display_data"
    },
    {
     "name": "stdout",
     "output_type": "stream",
     "text": [
      "Confusion Matrix:\n"
     ]
    },
    {
     "data": {
      "text/html": [
       "<div>\n",
       "<style scoped>\n",
       "    .dataframe tbody tr th:only-of-type {\n",
       "        vertical-align: middle;\n",
       "    }\n",
       "\n",
       "    .dataframe tbody tr th {\n",
       "        vertical-align: top;\n",
       "    }\n",
       "\n",
       "    .dataframe thead th {\n",
       "        text-align: right;\n",
       "    }\n",
       "</style>\n",
       "<table border=\"1\" class=\"dataframe\">\n",
       "  <thead>\n",
       "    <tr style=\"text-align: right;\">\n",
       "      <th></th>\n",
       "      <th>Pred 0 (malignant)</th>\n",
       "      <th>Pred 1 (benign)</th>\n",
       "    </tr>\n",
       "  </thead>\n",
       "  <tbody>\n",
       "    <tr>\n",
       "      <th>Actual 0 (malignant)</th>\n",
       "      <td>34</td>\n",
       "      <td>3</td>\n",
       "    </tr>\n",
       "    <tr>\n",
       "      <th>Actual 1 (benign)</th>\n",
       "      <td>0</td>\n",
       "      <td>77</td>\n",
       "    </tr>\n",
       "  </tbody>\n",
       "</table>\n",
       "</div>"
      ],
      "text/plain": [
       "                      Pred 0 (malignant)  Pred 1 (benign)\n",
       "Actual 0 (malignant)                  34                3\n",
       "Actual 1 (benign)                      0               77"
      ]
     },
     "metadata": {},
     "output_type": "display_data"
    },
    {
     "name": "stdout",
     "output_type": "stream",
     "text": [
      "Error Counts:\n"
     ]
    },
    {
     "data": {
      "text/html": [
       "<div>\n",
       "<style scoped>\n",
       "    .dataframe tbody tr th:only-of-type {\n",
       "        vertical-align: middle;\n",
       "    }\n",
       "\n",
       "    .dataframe tbody tr th {\n",
       "        vertical-align: top;\n",
       "    }\n",
       "\n",
       "    .dataframe thead th {\n",
       "        text-align: right;\n",
       "    }\n",
       "</style>\n",
       "<table border=\"1\" class=\"dataframe\">\n",
       "  <thead>\n",
       "    <tr style=\"text-align: right;\">\n",
       "      <th></th>\n",
       "      <th>False negatives</th>\n",
       "      <th>False positives</th>\n",
       "    </tr>\n",
       "  </thead>\n",
       "  <tbody>\n",
       "    <tr>\n",
       "      <th>0</th>\n",
       "      <td>3</td>\n",
       "      <td>0</td>\n",
       "    </tr>\n",
       "  </tbody>\n",
       "</table>\n",
       "</div>"
      ],
      "text/plain": [
       "   False negatives  False positives\n",
       "0                3                0"
      ]
     },
     "metadata": {},
     "output_type": "display_data"
    }
   ],
   "source": [
    "# 2) Evaluate Full Covariance (Shared)\n",
    "result2 = evaluate_classifier(full_cov_shared, \"Full Covariance (Shared)\",  )\n",
    "results.append(result2)\n"
   ]
  },
  {
   "cell_type": "code",
   "execution_count": 9,
   "id": "b0cfdb61",
   "metadata": {},
   "outputs": [
    {
     "name": "stdout",
     "output_type": "stream",
     "text": [
      "\n",
      "Evaluation Model Name: Full Covariance (Not Shared)\n"
     ]
    },
    {
     "data": {
      "text/html": [
       "<div>\n",
       "<style scoped>\n",
       "    .dataframe tbody tr th:only-of-type {\n",
       "        vertical-align: middle;\n",
       "    }\n",
       "\n",
       "    .dataframe tbody tr th {\n",
       "        vertical-align: top;\n",
       "    }\n",
       "\n",
       "    .dataframe thead th {\n",
       "        text-align: right;\n",
       "    }\n",
       "</style>\n",
       "<table border=\"1\" class=\"dataframe\">\n",
       "  <thead>\n",
       "    <tr style=\"text-align: right;\">\n",
       "      <th></th>\n",
       "      <th>Accuracy</th>\n",
       "    </tr>\n",
       "  </thead>\n",
       "  <tbody>\n",
       "    <tr>\n",
       "      <th>Train</th>\n",
       "      <td>0.945055</td>\n",
       "    </tr>\n",
       "    <tr>\n",
       "      <th>Test</th>\n",
       "      <td>0.912281</td>\n",
       "    </tr>\n",
       "  </tbody>\n",
       "</table>\n",
       "</div>"
      ],
      "text/plain": [
       "       Accuracy\n",
       "Train  0.945055\n",
       "Test   0.912281"
      ]
     },
     "metadata": {},
     "output_type": "display_data"
    },
    {
     "name": "stdout",
     "output_type": "stream",
     "text": [
      "Confusion Matrix:\n"
     ]
    },
    {
     "data": {
      "text/html": [
       "<div>\n",
       "<style scoped>\n",
       "    .dataframe tbody tr th:only-of-type {\n",
       "        vertical-align: middle;\n",
       "    }\n",
       "\n",
       "    .dataframe tbody tr th {\n",
       "        vertical-align: top;\n",
       "    }\n",
       "\n",
       "    .dataframe thead th {\n",
       "        text-align: right;\n",
       "    }\n",
       "</style>\n",
       "<table border=\"1\" class=\"dataframe\">\n",
       "  <thead>\n",
       "    <tr style=\"text-align: right;\">\n",
       "      <th></th>\n",
       "      <th>Pred 0 (malignant)</th>\n",
       "      <th>Pred 1 (benign)</th>\n",
       "    </tr>\n",
       "  </thead>\n",
       "  <tbody>\n",
       "    <tr>\n",
       "      <th>Actual 0 (malignant)</th>\n",
       "      <td>33</td>\n",
       "      <td>4</td>\n",
       "    </tr>\n",
       "    <tr>\n",
       "      <th>Actual 1 (benign)</th>\n",
       "      <td>6</td>\n",
       "      <td>71</td>\n",
       "    </tr>\n",
       "  </tbody>\n",
       "</table>\n",
       "</div>"
      ],
      "text/plain": [
       "                      Pred 0 (malignant)  Pred 1 (benign)\n",
       "Actual 0 (malignant)                  33                4\n",
       "Actual 1 (benign)                      6               71"
      ]
     },
     "metadata": {},
     "output_type": "display_data"
    },
    {
     "name": "stdout",
     "output_type": "stream",
     "text": [
      "Error Counts:\n"
     ]
    },
    {
     "data": {
      "text/html": [
       "<div>\n",
       "<style scoped>\n",
       "    .dataframe tbody tr th:only-of-type {\n",
       "        vertical-align: middle;\n",
       "    }\n",
       "\n",
       "    .dataframe tbody tr th {\n",
       "        vertical-align: top;\n",
       "    }\n",
       "\n",
       "    .dataframe thead th {\n",
       "        text-align: right;\n",
       "    }\n",
       "</style>\n",
       "<table border=\"1\" class=\"dataframe\">\n",
       "  <thead>\n",
       "    <tr style=\"text-align: right;\">\n",
       "      <th></th>\n",
       "      <th>False negatives</th>\n",
       "      <th>False positives</th>\n",
       "    </tr>\n",
       "  </thead>\n",
       "  <tbody>\n",
       "    <tr>\n",
       "      <th>0</th>\n",
       "      <td>4</td>\n",
       "      <td>6</td>\n",
       "    </tr>\n",
       "  </tbody>\n",
       "</table>\n",
       "</div>"
      ],
      "text/plain": [
       "   False negatives  False positives\n",
       "0                4                6"
      ]
     },
     "metadata": {},
     "output_type": "display_data"
    }
   ],
   "source": [
    "# 3) Evaluate Full Covariance (Not Shared)\n",
    "result3 = evaluate_classifier(full_cov_not_shared, \"Full Covariance (Not Shared)\",  )\n",
    "results.append(result3)\n"
   ]
  },
  {
   "cell_type": "code",
   "execution_count": 10,
   "id": "2013a6d4",
   "metadata": {},
   "outputs": [
    {
     "name": "stdout",
     "output_type": "stream",
     "text": [
      "\n",
      "Evaluation Model Name: Logistic Regression\n"
     ]
    },
    {
     "data": {
      "text/html": [
       "<div>\n",
       "<style scoped>\n",
       "    .dataframe tbody tr th:only-of-type {\n",
       "        vertical-align: middle;\n",
       "    }\n",
       "\n",
       "    .dataframe tbody tr th {\n",
       "        vertical-align: top;\n",
       "    }\n",
       "\n",
       "    .dataframe thead th {\n",
       "        text-align: right;\n",
       "    }\n",
       "</style>\n",
       "<table border=\"1\" class=\"dataframe\">\n",
       "  <thead>\n",
       "    <tr style=\"text-align: right;\">\n",
       "      <th></th>\n",
       "      <th>Accuracy</th>\n",
       "    </tr>\n",
       "  </thead>\n",
       "  <tbody>\n",
       "    <tr>\n",
       "      <th>Train</th>\n",
       "      <td>0.991209</td>\n",
       "    </tr>\n",
       "    <tr>\n",
       "      <th>Test</th>\n",
       "      <td>0.973684</td>\n",
       "    </tr>\n",
       "  </tbody>\n",
       "</table>\n",
       "</div>"
      ],
      "text/plain": [
       "       Accuracy\n",
       "Train  0.991209\n",
       "Test   0.973684"
      ]
     },
     "metadata": {},
     "output_type": "display_data"
    },
    {
     "name": "stdout",
     "output_type": "stream",
     "text": [
      "Confusion Matrix:\n"
     ]
    },
    {
     "data": {
      "text/html": [
       "<div>\n",
       "<style scoped>\n",
       "    .dataframe tbody tr th:only-of-type {\n",
       "        vertical-align: middle;\n",
       "    }\n",
       "\n",
       "    .dataframe tbody tr th {\n",
       "        vertical-align: top;\n",
       "    }\n",
       "\n",
       "    .dataframe thead th {\n",
       "        text-align: right;\n",
       "    }\n",
       "</style>\n",
       "<table border=\"1\" class=\"dataframe\">\n",
       "  <thead>\n",
       "    <tr style=\"text-align: right;\">\n",
       "      <th></th>\n",
       "      <th>Pred 0 (malignant)</th>\n",
       "      <th>Pred 1 (benign)</th>\n",
       "    </tr>\n",
       "  </thead>\n",
       "  <tbody>\n",
       "    <tr>\n",
       "      <th>Actual 0 (malignant)</th>\n",
       "      <td>36</td>\n",
       "      <td>1</td>\n",
       "    </tr>\n",
       "    <tr>\n",
       "      <th>Actual 1 (benign)</th>\n",
       "      <td>2</td>\n",
       "      <td>75</td>\n",
       "    </tr>\n",
       "  </tbody>\n",
       "</table>\n",
       "</div>"
      ],
      "text/plain": [
       "                      Pred 0 (malignant)  Pred 1 (benign)\n",
       "Actual 0 (malignant)                  36                1\n",
       "Actual 1 (benign)                      2               75"
      ]
     },
     "metadata": {},
     "output_type": "display_data"
    },
    {
     "name": "stdout",
     "output_type": "stream",
     "text": [
      "Error Counts:\n"
     ]
    },
    {
     "data": {
      "text/html": [
       "<div>\n",
       "<style scoped>\n",
       "    .dataframe tbody tr th:only-of-type {\n",
       "        vertical-align: middle;\n",
       "    }\n",
       "\n",
       "    .dataframe tbody tr th {\n",
       "        vertical-align: top;\n",
       "    }\n",
       "\n",
       "    .dataframe thead th {\n",
       "        text-align: right;\n",
       "    }\n",
       "</style>\n",
       "<table border=\"1\" class=\"dataframe\">\n",
       "  <thead>\n",
       "    <tr style=\"text-align: right;\">\n",
       "      <th></th>\n",
       "      <th>False negatives</th>\n",
       "      <th>False positives</th>\n",
       "    </tr>\n",
       "  </thead>\n",
       "  <tbody>\n",
       "    <tr>\n",
       "      <th>0</th>\n",
       "      <td>1</td>\n",
       "      <td>2</td>\n",
       "    </tr>\n",
       "  </tbody>\n",
       "</table>\n",
       "</div>"
      ],
      "text/plain": [
       "   False negatives  False positives\n",
       "0                1                2"
      ]
     },
     "metadata": {},
     "output_type": "display_data"
    }
   ],
   "source": [
    "# 4) Evaluate Logistic Regression\n",
    "result4 = evaluate_classifier(logistic_regression, \"Logistic Regression\",  )\n",
    "results.append(result4)\n"
   ]
  },
  {
   "cell_type": "markdown",
   "id": "cb3a030e",
   "metadata": {},
   "source": [
    "#### Results presentation"
   ]
  },
  {
   "cell_type": "code",
   "execution_count": 11,
   "id": "9db18076",
   "metadata": {},
   "outputs": [
    {
     "name": "stdout",
     "output_type": "stream",
     "text": [
      "Summary across classifiers:\n"
     ]
    },
    {
     "data": {
      "text/html": [
       "<div>\n",
       "<style scoped>\n",
       "    .dataframe tbody tr th:only-of-type {\n",
       "        vertical-align: middle;\n",
       "    }\n",
       "\n",
       "    .dataframe tbody tr th {\n",
       "        vertical-align: top;\n",
       "    }\n",
       "\n",
       "    .dataframe thead th {\n",
       "        text-align: right;\n",
       "    }\n",
       "</style>\n",
       "<table border=\"1\" class=\"dataframe\">\n",
       "  <thead>\n",
       "    <tr style=\"text-align: right;\">\n",
       "      <th></th>\n",
       "      <th>Classifier</th>\n",
       "      <th>Test Accuracy</th>\n",
       "      <th>Train Accuracy</th>\n",
       "      <th>FN (0-&gt;1)</th>\n",
       "      <th>FP (1-&gt;0)</th>\n",
       "    </tr>\n",
       "  </thead>\n",
       "  <tbody>\n",
       "    <tr>\n",
       "      <th>0</th>\n",
       "      <td>Full Covariance (Shared)</td>\n",
       "      <td>0.9737</td>\n",
       "      <td>0.9604</td>\n",
       "      <td>3</td>\n",
       "      <td>0</td>\n",
       "    </tr>\n",
       "    <tr>\n",
       "      <th>1</th>\n",
       "      <td>Logistic Regression</td>\n",
       "      <td>0.9737</td>\n",
       "      <td>0.9912</td>\n",
       "      <td>1</td>\n",
       "      <td>2</td>\n",
       "    </tr>\n",
       "    <tr>\n",
       "      <th>2</th>\n",
       "      <td>Naive Bayes</td>\n",
       "      <td>0.9386</td>\n",
       "      <td>0.9297</td>\n",
       "      <td>7</td>\n",
       "      <td>0</td>\n",
       "    </tr>\n",
       "    <tr>\n",
       "      <th>3</th>\n",
       "      <td>Full Covariance (Not Shared)</td>\n",
       "      <td>0.9123</td>\n",
       "      <td>0.9451</td>\n",
       "      <td>4</td>\n",
       "      <td>6</td>\n",
       "    </tr>\n",
       "  </tbody>\n",
       "</table>\n",
       "</div>"
      ],
      "text/plain": [
       "                     Classifier  Test Accuracy  Train Accuracy  FN (0->1)  \\\n",
       "0      Full Covariance (Shared)         0.9737          0.9604          3   \n",
       "1           Logistic Regression         0.9737          0.9912          1   \n",
       "2                   Naive Bayes         0.9386          0.9297          7   \n",
       "3  Full Covariance (Not Shared)         0.9123          0.9451          4   \n",
       "\n",
       "   FP (1->0)  \n",
       "0          0  \n",
       "1          2  \n",
       "2          0  \n",
       "3          6  "
      ]
     },
     "metadata": {},
     "output_type": "display_data"
    },
    {
     "name": "stdout",
     "output_type": "stream",
     "text": [
      "Best Test Accuracy: Logistic Regression (0.9737); \n"
     ]
    }
   ],
   "source": [
    "compare_all_results(results)"
   ]
  },
  {
   "cell_type": "markdown",
   "id": "e1616837",
   "metadata": {},
   "source": [
    "### 6. Results Analysis\n",
    "\n",
    "After comparative analysis, both **Logistic Regression** and the **Full Covariance (Shared)** Gaussian model achieved the highest test accuracy (0.9737). From a purely statistical perspective, the shared covariance model showed better generalization, with training and test accuracies closely aligned (0.9604 vs. 0.9737) and no false positives. Logistic Regression, in contrast, displayed slight overfitting (train 0.9912 vs. test 0.9737) and incurred two false positives.\n",
    "\n",
    "However, when considering the medical context, the evaluation must prioritize false negatives (FN), since they represent **malignant tumors incorrectly classified as benign** — effectively missed cancer diagnoses. In this regard, **Logistic Regression clearly outperformed**, with only 1 FN, compared to 3 FN for the shared covariance model. Although Logistic Regression produced 2 false positives, such errors merely result in unnecessary follow-up tests, which are far less harmful than missed malignancies.\n",
    "\n",
    "Therefore, **Logistic Regression is the best model in practice**, as it minimizes the most critical medical risk: missed diagnoses."
   ]
  },
  {
   "cell_type": "markdown",
   "id": "071de98b",
   "metadata": {},
   "source": [
    "## Task II"
   ]
  },
  {
   "cell_type": "markdown",
   "id": "7173109a",
   "metadata": {},
   "source": [
    "### Experiment loop"
   ]
  },
  {
   "cell_type": "code",
   "execution_count": 12,
   "id": "8145491b",
   "metadata": {},
   "outputs": [],
   "source": [
    "# generate a list of training sizes\n",
    "training_sizes = list(range(5, 501, 5))\n",
    "\n",
    "# initialize a container for results\n",
    "results = []\n",
    "\n",
    "# define models list\n",
    "models = [naive_bayes, full_cov_shared, full_cov_not_shared, logistic_regression]\n",
    "model_names = [\n",
    "    \"Naive Bayes\",\n",
    "    \"Full Covariance (Shared)\",\n",
    "    \"Full Covariance (Not Shared)\",\n",
    "    \"Logistic Regression\",\n",
    "]\n",
    "\n",
    "# start the experiment loop\n",
    "for N in training_sizes:\n",
    "    for _ in range(10):\n",
    "        X_train, X_test, y_train, y_test = train_test_split(\n",
    "            X, y, train_size=N, shuffle=True, stratify=y\n",
    "        )\n",
    "        for model, model_name in zip(models, model_names):\n",
    "            model.fit(X_train, y_train)\n",
    "            results.append(\n",
    "                {\n",
    "                    \"N\": N,\n",
    "                    \"model\": model_name,\n",
    "                    \"train_accuracy\": accuracy_score(y_train, model.predict(X_train)),\n",
    "                    \"test_accuracy\": accuracy_score(y_test, model.predict(X_test)),\n",
    "                }\n",
    "            )"
   ]
  },
  {
   "cell_type": "code",
   "execution_count": 13,
   "id": "b26ab5fb",
   "metadata": {},
   "outputs": [
    {
     "data": {
      "text/html": [
       "<div>\n",
       "<style scoped>\n",
       "    .dataframe tbody tr th:only-of-type {\n",
       "        vertical-align: middle;\n",
       "    }\n",
       "\n",
       "    .dataframe tbody tr th {\n",
       "        vertical-align: top;\n",
       "    }\n",
       "\n",
       "    .dataframe thead th {\n",
       "        text-align: right;\n",
       "    }\n",
       "</style>\n",
       "<table border=\"1\" class=\"dataframe\">\n",
       "  <thead>\n",
       "    <tr style=\"text-align: right;\">\n",
       "      <th></th>\n",
       "      <th>N</th>\n",
       "      <th>model</th>\n",
       "      <th>train_accuracy</th>\n",
       "      <th>test_accuracy</th>\n",
       "    </tr>\n",
       "  </thead>\n",
       "  <tbody>\n",
       "    <tr>\n",
       "      <th>0</th>\n",
       "      <td>5</td>\n",
       "      <td>Naive Bayes</td>\n",
       "      <td>1.000</td>\n",
       "      <td>0.652482</td>\n",
       "    </tr>\n",
       "    <tr>\n",
       "      <th>1</th>\n",
       "      <td>5</td>\n",
       "      <td>Full Covariance (Shared)</td>\n",
       "      <td>1.000</td>\n",
       "      <td>0.372340</td>\n",
       "    </tr>\n",
       "    <tr>\n",
       "      <th>2</th>\n",
       "      <td>5</td>\n",
       "      <td>Full Covariance (Not Shared)</td>\n",
       "      <td>1.000</td>\n",
       "      <td>0.372340</td>\n",
       "    </tr>\n",
       "    <tr>\n",
       "      <th>3</th>\n",
       "      <td>5</td>\n",
       "      <td>Logistic Regression</td>\n",
       "      <td>1.000</td>\n",
       "      <td>0.918440</td>\n",
       "    </tr>\n",
       "    <tr>\n",
       "      <th>4</th>\n",
       "      <td>5</td>\n",
       "      <td>Naive Bayes</td>\n",
       "      <td>1.000</td>\n",
       "      <td>0.673759</td>\n",
       "    </tr>\n",
       "    <tr>\n",
       "      <th>...</th>\n",
       "      <td>...</td>\n",
       "      <td>...</td>\n",
       "      <td>...</td>\n",
       "      <td>...</td>\n",
       "    </tr>\n",
       "    <tr>\n",
       "      <th>3995</th>\n",
       "      <td>500</td>\n",
       "      <td>Logistic Regression</td>\n",
       "      <td>0.990</td>\n",
       "      <td>0.956522</td>\n",
       "    </tr>\n",
       "    <tr>\n",
       "      <th>3996</th>\n",
       "      <td>500</td>\n",
       "      <td>Naive Bayes</td>\n",
       "      <td>0.930</td>\n",
       "      <td>0.927536</td>\n",
       "    </tr>\n",
       "    <tr>\n",
       "      <th>3997</th>\n",
       "      <td>500</td>\n",
       "      <td>Full Covariance (Shared)</td>\n",
       "      <td>0.962</td>\n",
       "      <td>0.956522</td>\n",
       "    </tr>\n",
       "    <tr>\n",
       "      <th>3998</th>\n",
       "      <td>500</td>\n",
       "      <td>Full Covariance (Not Shared)</td>\n",
       "      <td>0.946</td>\n",
       "      <td>0.913043</td>\n",
       "    </tr>\n",
       "    <tr>\n",
       "      <th>3999</th>\n",
       "      <td>500</td>\n",
       "      <td>Logistic Regression</td>\n",
       "      <td>0.988</td>\n",
       "      <td>0.985507</td>\n",
       "    </tr>\n",
       "  </tbody>\n",
       "</table>\n",
       "<p>4000 rows × 4 columns</p>\n",
       "</div>"
      ],
      "text/plain": [
       "        N                         model  train_accuracy  test_accuracy\n",
       "0       5                   Naive Bayes           1.000       0.652482\n",
       "1       5      Full Covariance (Shared)           1.000       0.372340\n",
       "2       5  Full Covariance (Not Shared)           1.000       0.372340\n",
       "3       5           Logistic Regression           1.000       0.918440\n",
       "4       5                   Naive Bayes           1.000       0.673759\n",
       "...   ...                           ...             ...            ...\n",
       "3995  500           Logistic Regression           0.990       0.956522\n",
       "3996  500                   Naive Bayes           0.930       0.927536\n",
       "3997  500      Full Covariance (Shared)           0.962       0.956522\n",
       "3998  500  Full Covariance (Not Shared)           0.946       0.913043\n",
       "3999  500           Logistic Regression           0.988       0.985507\n",
       "\n",
       "[4000 rows x 4 columns]"
      ]
     },
     "execution_count": 13,
     "metadata": {},
     "output_type": "execute_result"
    }
   ],
   "source": [
    "# convert results to a pandas DataFrame\n",
    "results_df = pd.DataFrame(results)\n",
    "results_df"
   ]
  },
  {
   "cell_type": "markdown",
   "id": "3d222793",
   "metadata": {},
   "source": [
    "## Task III"
   ]
  },
  {
   "cell_type": "markdown",
   "id": "5ce95844",
   "metadata": {},
   "source": [
    "### Plot function"
   ]
  },
  {
   "cell_type": "code",
   "execution_count": 14,
   "id": "351cd3d2",
   "metadata": {},
   "outputs": [
    {
     "data": {
      "image/png": "[encoded data removed]",
      "text/plain": [
       "<Figure size 700x400 with 1 Axes>"
      ]
     },
     "metadata": {},
     "output_type": "display_data"
    },
    {
     "data": {
      "image/png": "[encoded data removed]",
      "text/plain": [
       "<Figure size 700x400 with 1 Axes>"
      ]
     },
     "metadata": {},
     "output_type": "display_data"
    }
   ],
   "source": [
    "import pandas as pd\n",
    "import matplotlib.pyplot as plt\n",
    "\n",
    "df = pd.DataFrame(results)\n",
    "\n",
    "# calculate the mean of train and test accuracy\n",
    "df_mean = (\n",
    "    df.groupby([\"N\", \"model\"], as_index=False)[[\"train_accuracy\", \"test_accuracy\"]]\n",
    "    .mean()\n",
    "    .sort_values([\"model\", \"N\"])\n",
    ")\n",
    "\n",
    "models = [\n",
    "    \"Naive Bayes\",\n",
    "    \"Full Covariance (Shared)\",\n",
    "    \"Full Covariance (Not Shared)\",\n",
    "    \"Logistic Regression\",\n",
    "]\n",
    "\n",
    "# mean train accuracy plot\n",
    "plt.figure(figsize=(7, 4))\n",
    "for model in models:\n",
    "    data = df_mean[df_mean[\"model\"] == model]\n",
    "    if data.empty:\n",
    "        continue\n",
    "    plt.plot(\n",
    "        data[\"N\"],\n",
    "        data[\"train_accuracy\"],\n",
    "        label=model,\n",
    "        linewidth=2,\n",
    "    )\n",
    "plt.xlabel(\"Training Size N\")\n",
    "plt.ylabel(\"Accuracy\")\n",
    "plt.title(\"Mean Training Accuracy\")\n",
    "plt.grid(True, alpha=0.3)\n",
    "plt.legend()\n",
    "plt.tight_layout()\n",
    "plt.show()\n",
    "\n",
    "\n",
    "# mean test accuracy plot\n",
    "plt.figure(figsize=(7, 4))\n",
    "for model in models:\n",
    "    data = df_mean[df_mean[\"model\"] == model]\n",
    "    if data.empty:\n",
    "        continue\n",
    "    plt.plot(\n",
    "        data[\"N\"],\n",
    "        data[\"test_accuracy\"],\n",
    "        label=model,\n",
    "        linewidth=2,\n",
    "    )\n",
    "plt.xlabel(\"Training Size N\")\n",
    "plt.ylabel(\"Accuracy\")\n",
    "plt.title(\"Mean Test Accuracy\")\n",
    "plt.grid(True, alpha=0.3)\n",
    "plt.legend()\n",
    "plt.tight_layout()\n",
    "plt.show()"
   ]
  },
  {
   "cell_type": "markdown",
   "id": "548f8d8e",
   "metadata": {},
   "source": [
    "## Task IV"
   ]
  },
  {
   "cell_type": "markdown",
   "id": "aa6db547",
   "metadata": {},
   "source": [
    "### a\n",
    "\n",
    "**What happens to each classifiers train and test performance when the number of training data points is increased?**\n",
    "\n",
    "Answer:\n",
    "\n",
    "As the training size increases, the trends in training accuracy are as follows: both Full Covariance classifiers show a consistent downward tendency; Naive Bayes also decreases sharply at the beginning but then stabilizes; Logistic Regression decreases more slowly and eventually stabilizes as well.\n",
    "\n",
    "For test accuracy, at the beginning both Full Covariance classifiers start with relatively low performance but improve rapidly within the 100 training size. Naive Bayes achieves a relatively high test accuracy at the start and reaches its best performance within about 40 training samples, but its maximum accuracy remains lower than that of Logistic Regression and Full Covariance (Shared). Finally, Logistic Regression performs best overall, with the highest starting accuracy and the highest final accuracy on the test set.\n"
   ]
  },
  {
   "cell_type": "markdown",
   "id": "28209706",
   "metadata": {},
   "source": [
    "### b\n",
    "\n",
    "**Which classifier is best suited when the training set is small, and which is best suited\n",
    "when the training set is big?**\n",
    "\n",
    "Answer:\n",
    "\n",
    "For both small and  large training set, Logistic Regression achieves the best test accuracy.\n"
   ]
  },
  {
   "cell_type": "markdown",
   "id": "a9e0e747",
   "metadata": {},
   "source": [
    "### c\n",
    "\n",
    "**Justify your observations by providing some speculations and possible reasons.**\n",
    "\n",
    "Answer:\n",
    "\n",
    "**Naive Bayes** performs well with small training sets (has a very high test accuarcy at the begining) because it has very few parameters to estimate and makes a strong independence assumption between features. This reduces variance but introduces high bias, limiting its maximum achievable accuracy once more data becomes available.\n",
    "\n",
    "Both **Full Covariance (Not Shared)** and **Full Covariance (Shared)** exhibit low test accuracy with small training sets due to unstable covariance estimation. However, the Not Shared variant has a much larger number of parameters, making the problem more severe. In contrast, the Shared variant requires fewer parameters, allowing it to recover more quickly as the training size increases and eventually approach the performance of Logistic Regression.\n",
    "\n",
    "Logistic Regression consistently achieves the highest test accuracy across all training sizes. This is because it directly models \n",
    "conditional probability without making strong distributional assumptions, allowing it to generalize well even with small datasets while maintaining the lowest bias as the training size increases.\n"
   ]
  },
  {
   "cell_type": "code",
   "execution_count": null,
   "id": "ae74f560-033f-4aa5-b128-b68b1e7e4de1",
   "metadata": {},
   "outputs": [],
   "source": []
  }
 ],
 "metadata": {
  "kernelspec": {
   "display_name": "Python 3 (ipykernel)",
   "language": "python",
   "name": "python3"
  },
  "language_info": {
   "codemirror_mode": {
    "name": "ipython",
    "version": 3
   },
   "file_extension": ".py",
   "mimetype": "text/x-python",
   "name": "python",
   "nbconvert_exporter": "python",
   "pygments_lexer": "ipython3",
   "version": "3.10.9"
  }
 },
 "nbformat": 4,
 "nbformat_minor": 5
}

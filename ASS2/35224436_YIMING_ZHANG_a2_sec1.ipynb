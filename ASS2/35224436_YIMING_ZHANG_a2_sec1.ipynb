{
 "cells": [
  {
   "cell_type": "markdown",
   "id": "58d82c02",
   "metadata": {},
   "source": [
    "# 1 Document Clustering\n",
    "Student ID: 35224436 | Full name: Yiming Zhang"
   ]
  },
  {
   "cell_type": "markdown",
   "id": "1515faee",
   "metadata": {},
   "source": [
    "## Question 1 Expectation Maximisation"
   ]
  },
  {
   "cell_type": "markdown",
   "id": "12617adb",
   "metadata": {},
   "source": [
    "### Task I"
   ]
  },
  {
   "cell_type": "markdown",
   "id": "5909bed2",
   "metadata": {},
   "source": [
    "### Task II"
   ]
  },
  {
   "cell_type": "markdown",
   "id": "08e4f2ca",
   "metadata": {},
   "source": [
    "### Task III"
   ]
  },
  {
   "cell_type": "markdown",
   "id": "90d42b12",
   "metadata": {},
   "source": [
    "### Task IV"
   ]
  },
  {
   "cell_type": "markdown",
   "id": "724d8ff0",
   "metadata": {},
   "source": [
    "### Task V"
   ]
  },
  {
   "cell_type": "markdown",
   "id": "f7d30c65",
   "metadata": {},
   "source": [
    "### Task VI"
   ]
  }
 ],
 "metadata": {
  "kernelspec": {
   "display_name": "Python 3 (ipykernel)",
   "language": "python",
   "name": "python3"
  },
  "language_info": {
   "codemirror_mode": {
    "name": "ipython",
    "version": 3
   },
   "file_extension": ".py",
   "mimetype": "text/x-python",
   "name": "python",
   "nbconvert_exporter": "python",
   "pygments_lexer": "ipython3",
   "version": "3.10.9"
  }
 },
 "nbformat": 4,
 "nbformat_minor": 5
}

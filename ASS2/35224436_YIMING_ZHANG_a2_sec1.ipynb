{
 "cells": [
  {
   "cell_type": "markdown",
   "id": "58d82c02",
   "metadata": {},
   "source": [
    "# 1 Document Clustering\n",
    "Student ID: 35224436 | Full name: Yiming Zhang"
   ]
  },
  {
   "cell_type": "markdown",
   "id": "1515faee",
   "metadata": {},
   "source": [
    "## Question 1 Expectation Maximisation"
   ]
  },
  {
   "cell_type": "markdown",
   "id": "12617adb",
   "metadata": {},
   "source": [
    "### Task I\n"
   ]
  },
  {
   "cell_type": "markdown",
   "id": "ffa5c068",
   "metadata": {},
   "source": [
    "#### Write mathematical formulations of the optimization functions of maximum likelihood estimation (MLE) for the document clustering model with complete data and incomplete data, respectively. Then briefly describe why MLE with incomplete data is hard to optimize."
   ]
  },
  {
   "cell_type": "markdown",
   "id": "c6347821",
   "metadata": {},
   "source": [
    "##### <font color=red><b>Multiple documents MLE (complete data)</b></font>"
   ]
  },
  {
   "cell_type": "markdown",
   "id": "c815f96f",
   "metadata": {},
   "source": [
    "For each document ${d_n}$, choose a cluster $k \\in \\{1, \\dots, K\\}$ by tossing a $K$-faced dice parameterized by $\\boldsymbol{\\varphi} = [\\varphi_1,\\dots, \\varphi_K]$:\n",
    "$$\n",
    "p(z_n = k) = \\varphi_k, \\quad \\sum_{k=1}^{K} \\varphi_k = 1\n",
    "$$\n",
    "where $\\varphi_k$ represents the prior probability that document $d_n$ belongs to cluster $k$.\n",
    "\n",
    "Given the selected cluster $k$,\n",
    "generate each word in the document independently from the word distribution $\\boldsymbol{\\mu}_k = [\\mu_{k,w}]_{w \\in \\mathcal{A}}$:\n",
    "\n",
    "$$\n",
    "p(w \\mid z_n = k) = \\mu_{k,w}, \\quad \n",
    "\\sum_{w \\in \\mathcal{A}} \\mu_{k,w} = 1\n",
    "$$\n",
    "\n",
    "Each $\\boldsymbol{\\mu}_k$ corresponds to the multinomial word distribution for cluster $k$.\n",
    "\n",
    "Thus, the joint probability of a document $d$ and its cluster $k$ is:\n",
    "\n",
    "$$\n",
    "p(d, k) = p(k) \\, p(d \\mid k)\n",
    "= \\varphi_k \\prod_{w \\in \\mathcal{A}} \\mu_{k,w}^{\\,c(w, d)}\n",
    "$$\n",
    "\n",
    "where $c(w, d)$ is the number of times word $w$ appears in document $d$.\n",
    "\n",
    "Assume that in addition to the documents $D = \\{{d_1, d_2, ..., d_N}\\}$, each document $d_N$ has its own topic label $\\{{k_1, k_2, ..., k_N}\\}$. We can represent the joint probalitity as:\n",
    "\n",
    "$$\n",
    "p(d_1, k_1,...,d_N,k_N) = p(d_1, k_1) · p(d_2, k_2) · ... · p(d_N, k_N)\n",
    "= \\prod_{n=1}^{N} p(k_N)\\,p(d_N \\mid k_N)\n",
    "$$\n",
    "\n",
    "Therefore, the general form is:\n",
    "\n",
    "$$\n",
    "p(d_1, z_1, \\dots, d_N, z_N)\n",
    "= \\prod_{n=1}^{N} \\prod_{k=1}^{K}\n",
    "\\left(\n",
    "\\varphi_k\n",
    "\\prod_{w \\in \\mathcal{A}} \n",
    "\\mu_{k,w}^{\\,c(w, d_n)}\n",
    "\\right)^{z_{n,k}}\n",
    "$$\n",
    "\n",
    "where $z_{n,k} \\in \\{0,1\\}$ is an indicator variable that equals 1 if document $d_n$ belongs to cluster $k$, and 0 otherwise."
   ]
  },
  {
   "cell_type": "markdown",
   "id": "d0cb49fb",
   "metadata": {},
   "source": [
    "##### <font color=red><b>Multiple documents MLE (incomplete data)</b></font>"
   ]
  },
  {
   "cell_type": "markdown",
   "id": "569682c9",
   "metadata": {},
   "source": [
    "In this case, we can only observe the document $d$, but we do not know which cluster $k$ it belongs to. The cluster assignment $k$ is therefore a latent variable. Hence, we marginalize over $k$ to eliminate this unobserved variable.\n",
    "\n",
    "Therefore, we can represent the joint probability of a document $d$ as:\n",
    "\n",
    "$$\n",
    "p(d) = \\sum_{k}p(d, k) = \\sum_{k} \\varphi_{k} · p(d \\mid k)\n",
    "= \\sum_{k} (\\varphi_k \\prod_{w \\in \\mathcal{A}} \\mu_{k, w}^{\\,c(w, d)})\n",
    "$$\n",
    "\n",
    "where $c(w, d)$ is the number of times word $w$ appears in document $d$.\n",
    "\n",
    "Assume that in addition to the documents $D = \\{{d_1, d_2, ..., d_N}\\}$, $z_n$ is a latent variable. We can represent the joint probalitity as:\n",
    "\n",
    "$$\n",
    "p(d_1, \\dots, d_N)\n",
    "= \\prod_{n=1}^{N} p(d_n)\n",
    "= \\prod_{n=1}^{N} \\sum_{k=1}^{K} p(z_{n,k} = 1, d_n)\n",
    "$$\n",
    "\n",
    "Here, $z_{n,k}=1$ indicates that document $d_n$ belongs to cluster $k$, and $z_{n,k}=0$ otherwise.\n",
    "\n",
    "Substituting the generative model, we obtain the general form:\n",
    "\n",
    "$$\n",
    "p(d_1, \\dots, d_N) =\n",
    "= \\prod_{n=1}^{N} \\sum_{k=1}^{K}\n",
    "\\left(\n",
    "\\varphi_k \n",
    "\\prod_{w \\in \\mathcal{A}}\n",
    "\\mu_{k,w}^{\\,c(w, d_n)}\n",
    "\\right)\n",
    "$$\n",
    "\n",
    "Taking the logarithm gives the incomplete-data log-likelihood  \n",
    "\n",
    "$$\n",
    "\\ln {p(d_1, z_1, \\dots, d_N, z_N)}\n",
    "= \\sum_{n=1}^{N} \\ln{p(d_n)}\n",
    " = \\sum_{n=1}^{N}\n",
    "   \\ln \\,\n",
    "      \\sum_{k=1}^{K}\n",
    "      \\left(\\varphi_k\n",
    "      \\prod_{w \\in \\mathcal{A}}\n",
    "      \\mu_{k,w}^{\\,c(w,d_n)}\\right)\n",
    "$$\n",
    "\n",
    "MLE with incomplete data is hard to optimize because the log-likelihood contains\n",
    "a logarithm of a summation over hidden clusters.  \n",
    "The latent variables $z_n$ are unobserved, so the parameters\n",
    "$\\varphi_k$ and $\\mu_{k,w}$ are coupled inside the logarithm,\n",
    "preventing closed-form analytical updates."
   ]
  },
  {
   "cell_type": "markdown",
   "id": "4fa20738",
   "metadata": {},
   "source": [
    "#### Briefly explain the high-level idea of the EM algorithm to find MLE parameter estimates."
   ]
  },
  {
   "cell_type": "markdown",
   "id": "5909bed2",
   "metadata": {},
   "source": [
    "### Task II"
   ]
  },
  {
   "cell_type": "markdown",
   "id": "08e4f2ca",
   "metadata": {},
   "source": [
    "### Task III"
   ]
  },
  {
   "cell_type": "markdown",
   "id": "90d42b12",
   "metadata": {},
   "source": [
    "### Task IV"
   ]
  },
  {
   "cell_type": "markdown",
   "id": "724d8ff0",
   "metadata": {},
   "source": [
    "### Task V"
   ]
  },
  {
   "cell_type": "markdown",
   "id": "f7d30c65",
   "metadata": {},
   "source": [
    "### Task VI"
   ]
  }
 ],
 "metadata": {
  "kernelspec": {
   "display_name": "Python 3 (ipykernel)",
   "language": "python",
   "name": "python3"
  },
  "language_info": {
   "codemirror_mode": {
    "name": "ipython",
    "version": 3
   },
   "file_extension": ".py",
   "mimetype": "text/x-python",
   "name": "python",
   "nbconvert_exporter": "python",
   "pygments_lexer": "ipython3",
   "version": "3.10.9"
  }
 },
 "nbformat": 4,
 "nbformat_minor": 5
}
